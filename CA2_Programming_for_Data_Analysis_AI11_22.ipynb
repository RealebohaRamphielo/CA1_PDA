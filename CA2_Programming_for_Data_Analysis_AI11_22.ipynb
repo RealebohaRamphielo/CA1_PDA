{
  "nbformat": 4,
  "nbformat_minor": 0,
  "metadata": {
    "colab": {
      "provenance": [],
      "collapsed_sections": [
        "H8Lsgwq6HBDB"
      ],
      "authorship_tag": "ABX9TyPXnaUc/nsU98ofqZnQAVj6"
    },
    "kernelspec": {
      "name": "python3",
      "display_name": "Python 3"
    },
    "language_info": {
      "name": "python"
    }
  },
  "cells": [
    {
      "cell_type": "markdown",
      "source": [
        "# **Realeboha Raymond Ramphielo 10622234**\n",
        "\n",
        "  **B9AI108 Programming For Data Analysis B9AI108_2223_TMD1S**\n",
        "  **CA 2**\n",
        "\n",
        "  [link text](https://colab.research.google.com/drive/1XIZa4PnihdmvbuFt9s89LH5AF3aYZIFr?usp=sharing)"
      ],
      "metadata": {
        "id": "wcyWEToIFQIF"
      }
    },
    {
      "cell_type": "markdown",
      "source": [
        "## **Intoduction**\n",
        "I plan to scrap the Career Junction website (South African) for the avearge length of duration of Data related job-postings in Gauteng.  \n"
      ],
      "metadata": {
        "id": "CzRU3vnhrTPc"
      }
    },
    {
      "cell_type": "markdown",
      "source": [
        "*   irishjobs.ie -> problems with the requested data, cant locate it\n",
        "*   indeed.com -> https response 403\n",
        "*   datasciencejobs -> salary, location display funny on inspect, svg\n",
        "*   pnet -> does not have salary\n",
        "*   https://www.careerjunction.co.za -> might just work\n",
        "\n",
        "\n",
        "\n",
        "\n"
      ],
      "metadata": {
        "id": "4kU5k-JG7va1"
      }
    },
    {
      "cell_type": "markdown",
      "source": [
        "## Libarary intallations"
      ],
      "metadata": {
        "id": "H8Lsgwq6HBDB"
      }
    },
    {
      "cell_type": "code",
      "source": [
        "pip install requests"
      ],
      "metadata": {
        "colab": {
          "base_uri": "https://localhost:8080/"
        },
        "id": "Eb1fYUPb_eB7",
        "outputId": "076656f9-b49d-4c84-b7c3-93b035fbafe3"
      },
      "execution_count": 15,
      "outputs": [
        {
          "output_type": "stream",
          "name": "stdout",
          "text": [
            "Looking in indexes: https://pypi.org/simple, https://us-python.pkg.dev/colab-wheels/public/simple/\n",
            "Requirement already satisfied: requests in /usr/local/lib/python3.7/dist-packages (2.23.0)\n",
            "Requirement already satisfied: urllib3!=1.25.0,!=1.25.1,<1.26,>=1.21.1 in /usr/local/lib/python3.7/dist-packages (from requests) (1.24.3)\n",
            "Requirement already satisfied: certifi>=2017.4.17 in /usr/local/lib/python3.7/dist-packages (from requests) (2022.9.24)\n",
            "Requirement already satisfied: idna<3,>=2.5 in /usr/local/lib/python3.7/dist-packages (from requests) (2.10)\n",
            "Requirement already satisfied: chardet<4,>=3.0.2 in /usr/local/lib/python3.7/dist-packages (from requests) (3.0.4)\n"
          ]
        }
      ]
    },
    {
      "cell_type": "code",
      "source": [
        "pip install bs4"
      ],
      "metadata": {
        "colab": {
          "base_uri": "https://localhost:8080/"
        },
        "id": "WaNrME8M_irW",
        "outputId": "156e9af7-c177-4e8b-e6b3-8a302dd1b907"
      },
      "execution_count": 16,
      "outputs": [
        {
          "output_type": "stream",
          "name": "stdout",
          "text": [
            "Looking in indexes: https://pypi.org/simple, https://us-python.pkg.dev/colab-wheels/public/simple/\n",
            "Requirement already satisfied: bs4 in /usr/local/lib/python3.7/dist-packages (0.0.1)\n",
            "Requirement already satisfied: beautifulsoup4 in /usr/local/lib/python3.7/dist-packages (from bs4) (4.6.3)\n"
          ]
        }
      ]
    },
    {
      "cell_type": "code",
      "source": [
        "pip install pandas"
      ],
      "metadata": {
        "colab": {
          "base_uri": "https://localhost:8080/"
        },
        "id": "R-5TqI5JoCdP",
        "outputId": "44dd5916-6355-42a2-e963-98a8f6ffb53d"
      },
      "execution_count": 17,
      "outputs": [
        {
          "output_type": "stream",
          "name": "stdout",
          "text": [
            "Looking in indexes: https://pypi.org/simple, https://us-python.pkg.dev/colab-wheels/public/simple/\n",
            "Requirement already satisfied: pandas in /usr/local/lib/python3.7/dist-packages (1.3.5)\n",
            "Requirement already satisfied: python-dateutil>=2.7.3 in /usr/local/lib/python3.7/dist-packages (from pandas) (2.8.2)\n",
            "Requirement already satisfied: pytz>=2017.3 in /usr/local/lib/python3.7/dist-packages (from pandas) (2022.6)\n",
            "Requirement already satisfied: numpy>=1.17.3 in /usr/local/lib/python3.7/dist-packages (from pandas) (1.21.6)\n",
            "Requirement already satisfied: six>=1.5 in /usr/local/lib/python3.7/dist-packages (from python-dateutil>=2.7.3->pandas) (1.15.0)\n"
          ]
        }
      ]
    },
    {
      "cell_type": "code",
      "source": [
        "pip install strings"
      ],
      "metadata": {
        "id": "5e01rEeoS_35",
        "colab": {
          "base_uri": "https://localhost:8080/"
        },
        "outputId": "e83779b5-e346-40f1-fc2c-9d24e2de2a6f"
      },
      "execution_count": 18,
      "outputs": [
        {
          "output_type": "stream",
          "name": "stdout",
          "text": [
            "Looking in indexes: https://pypi.org/simple, https://us-python.pkg.dev/colab-wheels/public/simple/\n",
            "Collecting strings\n",
            "  Downloading strings-0.1.2.tar.gz (2.2 kB)\n",
            "\u001b[33mWARNING: Discarding https://files.pythonhosted.org/packages/bf/25/472d34792ee3816edcab999b5c00ce5e468ebd928ab5eff77f2a6738e37a/strings-0.1.2.tar.gz#sha256=8398e184ccee0900772443179554dfde157b6472a5a18c4dc68fff10de8126e7 (from https://pypi.org/simple/strings/). Command errored out with exit status 1: python setup.py egg_info Check the logs for full command output.\u001b[0m\n",
            "  Downloading strings-0.1.1.tar.gz (2.2 kB)\n",
            "\u001b[33mWARNING: Discarding https://files.pythonhosted.org/packages/9c/c7/032ed62ca1a4b2cb299c9538d3edb4f5e7e3390dbf6b8b287c1d6534fb5c/strings-0.1.1.tar.gz#sha256=bbb79cb4aaee367f1ccd7c942c7b3929e80fe19d48648e654b0217083ae348cc (from https://pypi.org/simple/strings/). Command errored out with exit status 1: python setup.py egg_info Check the logs for full command output.\u001b[0m\n",
            "\u001b[31mERROR: Could not find a version that satisfies the requirement strings (from versions: 0.1.1, 0.1.2)\u001b[0m\n",
            "\u001b[31mERROR: No matching distribution found for strings\u001b[0m\n"
          ]
        }
      ]
    },
    {
      "cell_type": "code",
      "source": [
        "pip install selenium"
      ],
      "metadata": {
        "id": "K9QgCi_LPa4b",
        "colab": {
          "base_uri": "https://localhost:8080/"
        },
        "outputId": "d6443a24-5546-4819-e115-f4d0e8ef82fb"
      },
      "execution_count": 19,
      "outputs": [
        {
          "output_type": "stream",
          "name": "stdout",
          "text": [
            "Looking in indexes: https://pypi.org/simple, https://us-python.pkg.dev/colab-wheels/public/simple/\n",
            "Collecting selenium\n",
            "  Downloading selenium-4.6.1-py3-none-any.whl (6.0 MB)\n",
            "\u001b[K     |████████████████████████████████| 6.0 MB 8.4 MB/s \n",
            "\u001b[?25hCollecting urllib3[socks]~=1.26\n",
            "  Downloading urllib3-1.26.13-py2.py3-none-any.whl (140 kB)\n",
            "\u001b[K     |████████████████████████████████| 140 kB 22.7 MB/s \n",
            "\u001b[?25hCollecting trio~=0.17\n",
            "  Downloading trio-0.22.0-py3-none-any.whl (384 kB)\n",
            "\u001b[K     |████████████████████████████████| 384 kB 46.9 MB/s \n",
            "\u001b[?25hRequirement already satisfied: certifi>=2021.10.8 in /usr/local/lib/python3.7/dist-packages (from selenium) (2022.9.24)\n",
            "Collecting trio-websocket~=0.9\n",
            "  Downloading trio_websocket-0.9.2-py3-none-any.whl (16 kB)\n",
            "Collecting sniffio\n",
            "  Downloading sniffio-1.3.0-py3-none-any.whl (10 kB)\n",
            "Collecting outcome\n",
            "  Downloading outcome-1.2.0-py2.py3-none-any.whl (9.7 kB)\n",
            "Collecting async-generator>=1.9\n",
            "  Downloading async_generator-1.10-py3-none-any.whl (18 kB)\n",
            "Requirement already satisfied: attrs>=19.2.0 in /usr/local/lib/python3.7/dist-packages (from trio~=0.17->selenium) (22.1.0)\n",
            "Requirement already satisfied: idna in /usr/local/lib/python3.7/dist-packages (from trio~=0.17->selenium) (2.10)\n",
            "Requirement already satisfied: sortedcontainers in /usr/local/lib/python3.7/dist-packages (from trio~=0.17->selenium) (2.4.0)\n",
            "Collecting exceptiongroup>=1.0.0rc9\n",
            "  Downloading exceptiongroup-1.0.4-py3-none-any.whl (14 kB)\n",
            "Collecting wsproto>=0.14\n",
            "  Downloading wsproto-1.2.0-py3-none-any.whl (24 kB)\n",
            "Requirement already satisfied: PySocks!=1.5.7,<2.0,>=1.5.6 in /usr/local/lib/python3.7/dist-packages (from urllib3[socks]~=1.26->selenium) (1.7.1)\n",
            "Collecting h11<1,>=0.9.0\n",
            "  Downloading h11-0.14.0-py3-none-any.whl (58 kB)\n",
            "\u001b[K     |████████████████████████████████| 58 kB 5.4 MB/s \n",
            "\u001b[?25hRequirement already satisfied: typing-extensions in /usr/local/lib/python3.7/dist-packages (from h11<1,>=0.9.0->wsproto>=0.14->trio-websocket~=0.9->selenium) (4.1.1)\n",
            "Installing collected packages: sniffio, outcome, h11, exceptiongroup, async-generator, wsproto, urllib3, trio, trio-websocket, selenium\n",
            "  Attempting uninstall: urllib3\n",
            "    Found existing installation: urllib3 1.24.3\n",
            "    Uninstalling urllib3-1.24.3:\n",
            "      Successfully uninstalled urllib3-1.24.3\n",
            "\u001b[31mERROR: pip's dependency resolver does not currently take into account all the packages that are installed. This behaviour is the source of the following dependency conflicts.\n",
            "requests 2.23.0 requires urllib3!=1.25.0,!=1.25.1,<1.26,>=1.21.1, but you have urllib3 1.26.13 which is incompatible.\u001b[0m\n",
            "Successfully installed async-generator-1.10 exceptiongroup-1.0.4 h11-0.14.0 outcome-1.2.0 selenium-4.6.1 sniffio-1.3.0 trio-0.22.0 trio-websocket-0.9.2 urllib3-1.26.13 wsproto-1.2.0\n"
          ]
        }
      ]
    },
    {
      "cell_type": "code",
      "source": [
        "import requests\n",
        "import json\n",
        "import pandas as pd\n",
        "from bs4 import BeautifulSoup\n",
        "from selenium import webdriver\n",
        "from datetime import datetime, date, timedelta \n",
        "import string\n",
        "import numpy as np"
      ],
      "metadata": {
        "id": "2ehHDOAutHXw",
        "colab": {
          "base_uri": "https://localhost:8080/"
        },
        "outputId": "09b7e919-c26f-4e78-b00f-1416386976b9"
      },
      "execution_count": 20,
      "outputs": [
        {
          "output_type": "stream",
          "name": "stderr",
          "text": [
            "/usr/local/lib/python3.7/dist-packages/requests/__init__.py:91: RequestsDependencyWarning: urllib3 (1.26.13) or chardet (3.0.4) doesn't match a supported version!\n",
            "  RequestsDependencyWarning)\n"
          ]
        }
      ]
    },
    {
      "cell_type": "markdown",
      "source": [
        "## **Steps**"
      ],
      "metadata": {
        "id": "pdHx1dJR47i8"
      }
    },
    {
      "cell_type": "code",
      "source": [
        "#default leocation = 0\n",
        "locations = {'Gauteng':'2747', 'Western Cape':'16149', 'KwaZulu-Natal':'13131',\\\n",
        "             'Eastern Cape':'2', 'Free State':'1782', 'Mpumalanga':'14867',\\\n",
        "             'Limpopo':'14594', 'North West':'15372', 'Northern Cape':'15837',\\\n",
        "             'International':'1000001', 'Working From Home':'100000'} "
      ],
      "metadata": {
        "id": "fm1uo4xp0F_4"
      },
      "execution_count": null,
      "outputs": []
    },
    {
      "cell_type": "code",
      "source": [
        "def get_url(job, location = 0):\n",
        "  \n",
        "  '''This function sets up the search url from the user defines job and location,\n",
        "    default location will be 0'''\n",
        "\n",
        "  #When no location is specified, default location = 0, i.e. the serch will not\n",
        "  # have any location restrictions\n",
        "\n",
        "  locations = {'Gauteng':'2747', 'Western Cape':'16149', 'KwaZulu-Natal':'13131',\\\n",
        "              'Eastern Cape':'2', 'Free State':'1782', 'Mpumalanga':'14867',\\\n",
        "              'Limpopo':'14594', 'North West':'15372', 'Northern Cape':'15837',\\\n",
        "              'International':'1000001', 'Working From Home':'100000'}\n",
        "\n",
        "  #above is the locations dictionary that will encode the location from a normal\n",
        "  #word search to an 'int' search\n",
        "  \n",
        "  error_message = 'No access to location, please revise'\n",
        "  \n",
        "  try:\n",
        "    if location != 0:                    #encode the location\n",
        "      location = locations[location]\n",
        "    gen_url = \"https://www.careerjunction.co.za/jobs/results?keywords={}&autosuggestEndpoint=%2Fautosuggest&location={}&category=&btnSubmit=+\"\n",
        "    search_url = gen_url.format(job, location)\n",
        "    \n",
        "    return search_url\n",
        "  \n",
        "  except KeyError:\n",
        "    return error_message"
      ],
      "metadata": {
        "id": "xpm-xKLhr1Qp"
      },
      "execution_count": 21,
      "outputs": []
    },
    {
      "cell_type": "code",
      "source": [
        "def salary_convert(b_string):\n",
        "\n",
        "  ''' The function will convert help extract salaries and scales them to a \n",
        "    monthly value'''\n",
        "\n",
        "  if 'per hour' in b_string:           #hourly rate\n",
        "    a_string = b_string.strip('R').strip().split()[0].split('.')[0] \n",
        "    #strip the 'R' and any possible space then split b_string by 'space' and \n",
        "    #is assigned 0 index value, then splits that new string by 'dot' and is \n",
        "    #assigned value at index 0\n",
        "    #eliminates the 'comma' in a_string by replacing it with 'no space'\n",
        "    \n",
        "    a_string = float(a_string.replace(',', '')) * 160\n",
        "    #eliminates the 'comma' in a_string by replacing it with 'no space' then\n",
        "    #multiples the float a_string by the hours that make up a month\n",
        "\n",
        "    #the code will generally be the same, only change is the multiplying factor\n",
        "\n",
        "  elif 'per day' in b_string:         #daily rate\n",
        "    a_string = b_string.strip('R').strip().split()[0].split('.')[0]\n",
        "    a_string = float(a_string.replace(',', '')) * 20\n",
        "\n",
        "  elif 'per week' in b_string:         #weekly rate\n",
        "    a_string = b_string.strip('R').split()[0].split('.')[0]\n",
        "    a_string = float(a_string.replace(',', '')) * 4\n",
        "\n",
        "  elif 'per fort' in b_string:         #fortnight rate\n",
        "    a_string = b_string.strip('R').strip().split()[0].split('.')[0]\n",
        "    a_string = float(a_string.replace(',', '')) * 2\n",
        "\n",
        "  elif 'per month' in b_string:        #monthly rate\n",
        "    a_string = b_string.strip('R').strip().split()[0].split('.')[0]\n",
        "    a_string = float(a_string.replace(',', ''))\n",
        "\n",
        "  elif 'per year' in b_string:       #yearly rate\n",
        "    a_string = b_string.strip('R').strip().split()[0].split('.')[0]\n",
        "    a_string = float(a_string.replace(',', '')) / 12\n",
        "\n",
        "  else:    #Undisclosed salaries\n",
        "    a_string = np.NaN\n",
        "\n",
        "  return a_string"
      ],
      "metadata": {
        "id": "TMnhosayTEgX"
      },
      "execution_count": 22,
      "outputs": []
    },
    {
      "cell_type": "code",
      "source": [
        "def make_soup(job, location=0):\n",
        "  \n",
        "  '''The function creates a response from the created by get_url, then scraps \n",
        "    the actual data from the website'''\n",
        "\n",
        "  gen_url = get_url(job, location)    #defines the website that will be scraped\n",
        "  job_collection = []    #empty list to contain all the extracted job attributes \n",
        "\n",
        "  for i in range(1,5):\n",
        "    search_page = f\"&page={str(i)}\"          #this is the start page\n",
        "    url = gen_url + search_page             #add a page to the url\n",
        "    response = requests.get(url)  \n",
        "\n",
        "    pasta = BeautifulSoup(response.content, 'html.parser') #create the soup\n",
        "    jobs = pasta.find('div', class_=\"two-thirds\")          #location of the jobs on the page\n",
        "    j_cards = jobs.find_all('div', class_=\"job-result\")    #collection of the jobs on the page\n",
        "    \n",
        "    for j_card in j_cards:  #looping over the job cards list to extract features of each job\n",
        "      a_job = {}            #dictionary to hold individual job information\n",
        "      \n",
        "      prim_link = \"https://www.careerjunction.co.za\"\n",
        "      j_today = date.today()\n",
        "      j_title = j_card.find('h2')\n",
        "      \n",
        "      a_job['Job Title'] = j_title.text.strip()\n",
        "      #company_name = j_card.find('h3')\n",
        "      if j_card.find('h3') is not None:\n",
        "        a_job['Company'] = j_card.find('h3').text.strip()\n",
        "      a_job['Location'] = j_card.find('li', class_=\"location\").text.strip()\n",
        "      a_job['Job Type'] = j_card.find('li', class_=\"position\").text.strip()\n",
        "\n",
        "      a_job['Salary'] = j_card.find('li', class_=\"salary\").text.strip()\n",
        "      a_job['Monthly Salary'] = salary_convert(a_job['Salary'])\n",
        "\n",
        "      a_job['Posting Date'] = j_card.find('li', class_=\"updated-time\").text\\\n",
        "      .strip('Posted').strip()\n",
        "\n",
        "      j_expiry = j_card.find('li', class_=\"expires\").text.split()[2]\n",
        "      try:\n",
        "        ini_exp = j_today + timedelta(days=int(j_expiry))\n",
        "      except ValueError:\n",
        "        ini_exp = j_today\n",
        "      a_job['Expiry Date'] = ini_exp.strftime('%d %b %Y')\n",
        "      j_duration = pd.to_datetime(a_job['Expiry Date'])-pd.to_datetime(a_job['Posting Date'])\n",
        "      j_toExpire = pd.to_datetime(a_job['Expiry Date'])-pd.to_datetime(j_today.strftime('%d %b %Y'))\n",
        "      a_job['Ad Duration (Days)'] = int(str(j_duration).split()[0])\n",
        "      a_job['Days before expiry'] = int(str(j_toExpire).split()[0])\n",
        "\n",
        "      a_job['Link'] = prim_link + j_title.find('a').get('href')\n",
        "\n",
        "      job_collection.append(a_job) \n",
        "      #adds the single jobs dictionary to the jobs collection list, feature names are the keys\n",
        "\n",
        "  return job_collection    #returns jobs list\n"
      ],
      "metadata": {
        "id": "vBYIV2kVXgc5"
      },
      "execution_count": 34,
      "outputs": []
    },
    {
      "cell_type": "code",
      "source": [
        "def main_jobs(job, location=0):\n",
        "\n",
        "  '''Runs make_soup functions then creates a pandas dataframe that will be\n",
        "    converted into a csv file'''\n",
        "  cols_ord = ['Job Title', 'Location', 'Job Type', 'Company', 'Salary', \\\n",
        "              'Monthly Salary', 'Posting Date', 'Expiry Date', \\\n",
        "              'Ad Duration (Days)','Days before expiry', 'Link']\n",
        "\n",
        "  j_data = make_soup(job, location)  #defines a list of dictionaries\n",
        "  df = pd.DataFrame(j_data)          #coverts the list above to a dataframe\n",
        "  df= df[cols_ord]                   #reorders the columns\n",
        "  df.to_csv('jobs_data.csv')   #creates a jobs_data csv file from the dataframe\n",
        "\n",
        "  return df "
      ],
      "metadata": {
        "id": "PNx6z5IUfyTB"
      },
      "execution_count": 32,
      "outputs": []
    },
    {
      "cell_type": "code",
      "source": [
        "some_some = main_jobs('data', 'Gauteng')\n"
      ],
      "metadata": {
        "id": "6CSM2gCjZA2Z"
      },
      "execution_count": 33,
      "outputs": []
    },
    {
      "cell_type": "code",
      "source": [
        "print(some_some['Ad Duration (Days)'].max(), some_some['Ad Duration (Days)'].min(), round(some_some['Ad Duration (Days)'].mean()))"
      ],
      "metadata": {
        "colab": {
          "base_uri": "https://localhost:8080/"
        },
        "id": "ZDxLfEs3nWe1",
        "outputId": "29f65491-e7fc-4c6f-f9f0-c371a21d3a38"
      },
      "execution_count": 43,
      "outputs": [
        {
          "output_type": "stream",
          "name": "stdout",
          "text": [
            "34 3 21\n"
          ]
        }
      ]
    },
    {
      "cell_type": "code",
      "source": [
        "# #p_play = 'R ds dsdR'\n",
        "# #p_play2 = p_play.strip('R')\n",
        "# #p_play2\n",
        "\n",
        "# ttttt = '400.00 - 300'.split()[0].split('.')[0]\n",
        "# print(ttttt)\n",
        "# tttttd = '400,00 - 300'.split()[0].split('.')[0]\n",
        "# print(tttttd)"
      ],
      "metadata": {
        "colab": {
          "base_uri": "https://localhost:8080/"
        },
        "id": "BSv2xfHPxyVB",
        "outputId": "c66a366e-06b6-446d-8e29-3b35050b3e12"
      },
      "execution_count": 175,
      "outputs": [
        {
          "output_type": "stream",
          "name": "stdout",
          "text": [
            "400\n",
            "400,00\n"
          ]
        }
      ]
    },
    {
      "cell_type": "code",
      "source": [
        "# #from numpy.lib.shape_base import dsplit\n",
        "# li = []\n",
        "# for i in range(1,3):\n",
        "#   gen_url3 = \"https://www.careerjunction.co.za/jobs/results?keywords=data&autosuggestEndpoint=%2fautosuggest&location=2747&category=&btnSubmit=+\"\n",
        "#   #url1 = get_url('data', 'Limpopo')\n",
        "#   cococ = f\"&page={str(i)}\"\n",
        "#   gen_url = gen_url3 + cococ\n",
        "#   resp = requests.get(gen_url)\n",
        "#   #print(resp, resp.reason)\n",
        "#   #print(gen_url)\n",
        "#   #print(url1)\n",
        "#   #resp.status_code\n",
        "#   pasta = BeautifulSoup(resp.content, 'html.parser')\n",
        "#   jobs = pasta.find('div', class_=\"two-thirds\")\n",
        "#   j_cards = jobs.find_all('div', class_=\"job-result\")\n",
        "#   #j_cards.pop(5)\n",
        "#   print(len(j_cards))\n",
        "#   #j_cards\n",
        "#   #li = []\n",
        "#   for j_card in j_cards:\n",
        "#     j_today = date.today()\n",
        "#     a_job = {}\n",
        "#     titleofjob = j_card.find('h2')\n",
        "#     a_job['Job Title'] = (titleofjob.text.strip())\n",
        "#   #  a_job['Company'] = (j_card.find('h3').text.strip())\n",
        "#     a_job['Location'] = (j_card.find('li', class_=\"location\").text.strip())\n",
        "#     a_job['Job Type'] = (j_card.find('li', class_=\"position\").text.strip())\n",
        "#     a_job['Salary'] = (j_card.find('li', class_=\"salary\").text.strip())\n",
        "#     a_job['Monthly Salary'] = salary_convert(a_job['Salary'])\n",
        "    \n",
        "#     a_job['Posting date'] = (j_card.find('li', class_=\"updated-time\").text.strip('Posted').strip())\n",
        "#     j_expiry = j_card.find('li', class_=\"expires\").text.split()[2]\n",
        "#     if j_expiry != 'today':\n",
        "#       ini_exp = j_today + timedelta(days=int(j_expiry))\n",
        "#       a_job['Expiry date'] = ini_exp.strftime('%d %b %Y')\n",
        "#     else:\n",
        "#       a_job['Expiry date'] = j_today.strftime('%d %b %Y')\n",
        "#     #a_job['Job URL'] = (j_card.find('h2').text.strip())\n",
        "#     duration1 = pd.to_datetime(a_job['Expiry date']) - pd.to_datetime(a_job['Posting date'])\n",
        "#     duration2 = pd.to_datetime(a_job['Expiry date']) - pd.to_datetime(j_today.strftime('%d %b %Y'))\n",
        "#     #a_job['j_title'] = (j_card.find('h2').text.strip())\n",
        "#     a_job['sahdis'] = int(str(duration1).split()[0])\n",
        "#     a_job['sahdis2'] = int(str(duration2).split()[0])\n",
        "#     a_job['Link']  = 'https://www.careerjunction.co.za'+titleofjob.find('a').get('href')\n",
        "\n",
        "#     li.append(a_job)\n",
        "\n",
        "#   #two-way step in accessing an embedded feature, find outer tag and assign it\n",
        "#   #then use asigned_varaible.attrs['some_tag'] to locate the embedded feature\n",
        "#   #eg -> var = j_card.find('h2') followed by feature = var.attrs['a'] \n",
        "\n",
        "#   #convert final list of dictionaries to a pandas dataframe then use to_csv after\n",
        "#   #df = pd.DataFrame(jobs) followed by df.to_csv('file_name.csv')\n",
        "\n",
        "#   #len(li)\n",
        "#   #li[3]\n",
        "# #li\n"
      ],
      "metadata": {
        "colab": {
          "base_uri": "https://localhost:8080/"
        },
        "id": "RCXX65vKLvr0",
        "outputId": "f143bbbe-21b9-4c9e-b050-86f5d90285e3"
      },
      "execution_count": 199,
      "outputs": [
        {
          "output_type": "stream",
          "name": "stdout",
          "text": [
            "25\n",
            "25\n"
          ]
        }
      ]
    },
    {
      "cell_type": "code",
      "source": [
        "reew = 'R58,300'.strip(',').strip('R')\n",
        "print(reew)\n",
        "reew = ''.join(item for item in reew if item.isalnum())\n",
        "reew"
      ],
      "metadata": {
        "colab": {
          "base_uri": "https://localhost:8080/",
          "height": 53
        },
        "id": "g2VnA_SSAtLY",
        "outputId": "c0b161bc-a895-4608-c5f8-13689c91f51c"
      },
      "execution_count": 168,
      "outputs": [
        {
          "output_type": "stream",
          "name": "stdout",
          "text": [
            "58,300\n"
          ]
        },
        {
          "output_type": "execute_result",
          "data": {
            "text/plain": [
              "'58300'"
            ],
            "application/vnd.google.colaboratory.intrinsic+json": {
              "type": "string"
            }
          },
          "metadata": {},
          "execution_count": 168
        }
      ]
    },
    {
      "cell_type": "code",
      "source": [
        "fesad = 'R58,30000'\n",
        "print(float(fesad.replace(',', '').strip('R')))  # ValueError: invalid literal for int() with base 10: '58300.00'"
      ],
      "metadata": {
        "colab": {
          "base_uri": "https://localhost:8080/"
        },
        "id": "xCfHBLesRymb",
        "outputId": "c3b59336-63a2-462e-f359-3d64d9ea6ea6"
      },
      "execution_count": 188,
      "outputs": [
        {
          "output_type": "stream",
          "name": "stdout",
          "text": [
            "5830000.0\n"
          ]
        }
      ]
    },
    {
      "cell_type": "code",
      "source": [
        "weeeer = '400.00'.split('.')\n",
        "weeeer"
      ],
      "metadata": {
        "colab": {
          "base_uri": "https://localhost:8080/"
        },
        "id": "fI7dKRA8Oyzs",
        "outputId": "f3e7b1ed-4a72-4b71-c011-e01c7ec08ded"
      },
      "execution_count": 163,
      "outputs": [
        {
          "output_type": "execute_result",
          "data": {
            "text/plain": [
              "['400', '00']"
            ]
          },
          "metadata": {},
          "execution_count": 163
        }
      ]
    },
    {
      "cell_type": "code",
      "source": [
        "dfdf = pd.DataFrame(li)\n",
        "dfdf"
      ],
      "metadata": {
        "colab": {
          "base_uri": "https://localhost:8080/",
          "height": 1433
        },
        "id": "Jz8ZAj6Y26iQ",
        "outputId": "5bc90f4e-7a11-4edb-e411-d0da8ba50c02"
      },
      "execution_count": 200,
      "outputs": [
        {
          "output_type": "execute_result",
          "data": {
            "text/plain": [
              "                                            Job Title  \\\n",
              "0                                        Data Analyst   \n",
              "1                                        Data Modeler   \n",
              "2                             Data Analyst (Power BI)   \n",
              "3   People Data Analyst at SA Taxi Development Fin...   \n",
              "4                              Data Engineer Services   \n",
              "5   Junior Data Manager (12 Months Contract) Wits ...   \n",
              "6                                 Senior Data Analyst   \n",
              "7                                      Data Scientist   \n",
              "8                               Senior Data Scientist   \n",
              "9         TM1 Data Analytics Consultant at RecruiTech   \n",
              "10               AWS Data Engineering Trainee - T_004   \n",
              "11                        ERP Data Quality Specialist   \n",
              "12  Data Architect (Non-Technical) - Johannesburg ...   \n",
              "13            Senior Big Data Infrastructure Engineer   \n",
              "14  Data Modeller - Johannesburg - Up to R850k Per...   \n",
              "15                      BI Data Engineer at Reverside   \n",
              "16                  BI Big Data Engineer at Reverside   \n",
              "17                        Data Capturer Administrator   \n",
              "18  Senior Reference and Master Data Management Sp...   \n",
              "19       Senior Data Exchange Platform Engineer (DBA)   \n",
              "20                         Specialist: Data Analytics   \n",
              "21  Data Architect - Hybrid - R900k Per Annum at e...   \n",
              "22          Data Analyst (JHB) at Datafin Recruitment   \n",
              "23                      Data Privacy Business Partner   \n",
              "24          Data Manager (Wits CHRU)  at AJ Personnel   \n",
              "25                                       Data analyst   \n",
              "26                   Data Quality Solutions Architect   \n",
              "27                                     Data Architect   \n",
              "28  Data Analyst - Johannesburg - Hybrid - up to R...   \n",
              "29  Data Scientist - Sandton (Hybrid role) - R1.1m...   \n",
              "30               Data Architect LWR1243 at Mediro ICT   \n",
              "31         Data Modeller (JHB) at Datafin Recruitment   \n",
              "32                        Mid to Senior Data Engineer   \n",
              "33                         Data Modeler at Sabenza IT   \n",
              "34  Senior Project Mechanical Design Engineer (Dat...   \n",
              "35  Senior Project Electrical Design Engineer (Ire...   \n",
              "36  Senior Mechanical Design Engineer (Ireland: Da...   \n",
              "37  Senior Electrical Design Engineer (Ireland: Da...   \n",
              "38  Mechanical Project Design Engineer (Ireland: D...   \n",
              "39                 Data Analyst at Datonomy Solutions   \n",
              "40  Senior Data Engineer (Azure) - Johannesburg - ...   \n",
              "41  Senior DevOps Data Engineer - Johannesburg/Pre...   \n",
              "42                                     Data Scientist   \n",
              "43                             Data Reporting Analyst   \n",
              "44                        EIM Data Quality Specialist   \n",
              "45                                       Data Analyst   \n",
              "46                                       Data Analyst   \n",
              "47                                Junior Data Analyst   \n",
              "48                                       Data Modeler   \n",
              "49                            SAP Data Migration Lead   \n",
              "\n",
              "                                            Location  \\\n",
              "0                                  Randburg, Gauteng   \n",
              "1    Johannesburg Region, Gauteng\\n / Work From Home   \n",
              "2   Johannesburg North (Johannesburg North), Gauteng   \n",
              "3                                   Midrand, Gauteng   \n",
              "4                              Pretoria CBD, Gauteng   \n",
              "5                       Johannesburg Region, Gauteng   \n",
              "6           Johannesburg, Gauteng\\n / Work From Home   \n",
              "7           Johannesburg, Gauteng\\n / Work From Home   \n",
              "8    Johannesburg Region, Gauteng\\n / Work From Home   \n",
              "9           Johannesburg, Gauteng\\n / Work From Home   \n",
              "10                                 Pretoria, Gauteng   \n",
              "11                             Pretoria CBD, Gauteng   \n",
              "12                                  Sandown, Gauteng   \n",
              "13                                  Midrand, Gauteng   \n",
              "14                             Johannesburg, Gauteng   \n",
              "15                             Gauteng, South Africa   \n",
              "16                             Gauteng, South Africa   \n",
              "17            Laser Park, Gauteng\\n / Work From Home   \n",
              "18                             Pretoria CBD, Gauteng   \n",
              "19  Johannesburg North (Johannesburg North), Gauteng   \n",
              "20                                 Pretoria, Gauteng   \n",
              "21          Johannesburg, Gauteng\\n / Work From Home   \n",
              "22                             Johannesburg, Gauteng   \n",
              "23                             Pretoria CBD, Gauteng   \n",
              "24                      Johannesburg Region, Gauteng   \n",
              "25                                   Illovo, Gauteng   \n",
              "26                             Pretoria CBD, Gauteng   \n",
              "27                                  Midrand, Gauteng   \n",
              "28               Sandown, Gauteng\\n / Work From Home   \n",
              "29                             Johannesburg, Gauteng   \n",
              "30                      Johannesburg Region, Gauteng   \n",
              "31                                  Sandton, Gauteng   \n",
              "32                             Johannesburg, Gauteng   \n",
              "33                                  Sandown, Gauteng   \n",
              "34  Johannesburg North (Johannesburg North), Gauteng   \n",
              "35  Johannesburg North (Johannesburg North), Gauteng   \n",
              "36  Johannesburg North (Johannesburg North), Gauteng   \n",
              "37  Johannesburg North (Johannesburg North), Gauteng   \n",
              "38  Johannesburg North (Johannesburg North), Gauteng   \n",
              "39  Johannesburg North (Johannesburg North), Gauteng   \n",
              "40                             Johannesburg, Gauteng   \n",
              "41          Johannesburg, Gauteng\\n / Work From Home   \n",
              "42   Johannesburg Region, Gauteng\\n / Work From Home   \n",
              "43  Johannesburg North (Johannesburg North), Gauteng   \n",
              "44                             Pretoria CBD, Gauteng   \n",
              "45                             Johannesburg, Gauteng   \n",
              "46                             Pretoria CBD, Gauteng   \n",
              "47                                Centurion, Gauteng   \n",
              "48                             Johannesburg, Gauteng   \n",
              "49                             Johannesburg, Gauteng   \n",
              "\n",
              "                              Job Type                         Salary  \\\n",
              "0      Permanent Intermediate position    R20,000 - R25,000 per month   \n",
              "1         Contract Specialist position                    Undisclosed   \n",
              "2             Contract Senior position     R400.00 - R480.00 per hour   \n",
              "3   Permanent Intermediate EE position                    Undisclosed   \n",
              "4             Contract Senior position                    Undisclosed   \n",
              "5             Contract Junior position                  R Undisclosed   \n",
              "6            Permanent Senior position    R58,300 - R83,300 per month   \n",
              "7            Permanent Junior position    R29,200 - R41,700 per month   \n",
              "8            Permanent Senior position   R83,300 - R125,000 per month   \n",
              "9      Permanent Intermediate position    R70,000 - R80,000 per month   \n",
              "10      Contract Intermediate position                  R Undisclosed   \n",
              "11        Contract Specialist position                  R Undisclosed   \n",
              "12           Permanent Senior position  R100,000 - R108,300 per month   \n",
              "13     Permanent Intermediate position                  R Undisclosed   \n",
              "14           Permanent Senior position    R66,700 - R70,800 per month   \n",
              "15           Permanent Senior position                Commission Only   \n",
              "16           Permanent Senior position                Commission Only   \n",
              "17     Permanent Intermediate position    R15,000 - R18,000 per month   \n",
              "18        Contract Specialist position                  R Undisclosed   \n",
              "19            Contract Senior position                  R Undisclosed   \n",
              "20           Permanent Senior position                  R Undisclosed   \n",
              "21           Permanent Senior position              R75,000 per month   \n",
              "22        Permanent Executive position                  R Undisclosed   \n",
              "23    Permanent Specialist EE position                    Undisclosed   \n",
              "24     Permanent Intermediate position                  R Undisclosed   \n",
              "25     Permanent Intermediate position    R35,000 - R40,000 per month   \n",
              "26            Contract Senior position                  R Undisclosed   \n",
              "27        Contract Specialist position                    Undisclosed   \n",
              "28            Contract Senior position   R88,000 - R104,000 per month   \n",
              "29           Permanent Senior position              R91,700 per month   \n",
              "30            Contract Senior position                  R Undisclosed   \n",
              "31        Permanent Executive position                  R Undisclosed   \n",
              "32           Permanent Senior position    R60,000 - R85,000 per month   \n",
              "33            Contract Senior position                  R Undisclosed   \n",
              "34     Permanent Intermediate position                  R Undisclosed   \n",
              "35     Permanent Intermediate position                  R Undisclosed   \n",
              "36     Permanent Intermediate position                  R Undisclosed   \n",
              "37     Permanent Intermediate position                  R Undisclosed   \n",
              "38     Permanent Intermediate position                  R Undisclosed   \n",
              "39      Contract Intermediate position    R70,000 - R90,000 per month   \n",
              "40            Contract Senior position             R125,000 per month   \n",
              "41            Contract Senior position              R96,000 per month   \n",
              "42           Permanent Senior position             R100,000 per month   \n",
              "43           Permanent Senior position    R33,300 - R41,700 per month   \n",
              "44        Contract Specialist position                  R Undisclosed   \n",
              "45     Permanent Intermediate position                  R Undisclosed   \n",
              "46       Permanent Specialist position                    Undisclosed   \n",
              "47           Permanent Junior position                  R Undisclosed   \n",
              "48            Contract Senior position                    Undisclosed   \n",
              "49            Contract Senior position               R600.00 per hour   \n",
              "\n",
              "    Monthly Salary Posting date  Expiry date  sahdis  sahdis2  \\\n",
              "0          20000.0  26 Nov 2022  04 Dec 2022       8        8   \n",
              "1              NaN  26 Nov 2022  21 Dec 2022      25       25   \n",
              "2          64000.0  25 Nov 2022  07 Dec 2022      12       11   \n",
              "3              NaN  25 Nov 2022  11 Dec 2022      16       15   \n",
              "4              NaN  25 Nov 2022  29 Dec 2022      34       33   \n",
              "5              NaN  25 Nov 2022  25 Dec 2022      30       29   \n",
              "6          58300.0  25 Nov 2022  11 Dec 2022      16       15   \n",
              "7          29200.0  25 Nov 2022  11 Dec 2022      16       15   \n",
              "8          83300.0  25 Nov 2022  11 Dec 2022      16       15   \n",
              "9          70000.0  25 Nov 2022  11 Dec 2022      16       15   \n",
              "10             NaN  24 Nov 2022  06 Dec 2022      12       10   \n",
              "11             NaN  24 Nov 2022  20 Dec 2022      26       24   \n",
              "12        100000.0  24 Nov 2022  28 Dec 2022      34       32   \n",
              "13             NaN  24 Nov 2022  28 Dec 2022      34       32   \n",
              "14         66700.0  24 Nov 2022  28 Dec 2022      34       32   \n",
              "15             NaN  24 Nov 2022  28 Dec 2022      34       32   \n",
              "16             NaN  24 Nov 2022  28 Dec 2022      34       32   \n",
              "17         15000.0  24 Nov 2022  28 Dec 2022      34       32   \n",
              "18             NaN  24 Nov 2022  20 Dec 2022      26       24   \n",
              "19             NaN  24 Nov 2022  08 Dec 2022      14       12   \n",
              "20             NaN  24 Nov 2022  29 Nov 2022       5        3   \n",
              "21         75000.0  24 Nov 2022  19 Dec 2022      25       23   \n",
              "22             NaN  24 Nov 2022  13 Dec 2022      19       17   \n",
              "23             NaN  24 Nov 2022  28 Dec 2022      34       32   \n",
              "24             NaN  23 Nov 2022  15 Dec 2022      22       19   \n",
              "25         35000.0  23 Nov 2022  19 Dec 2022      26       23   \n",
              "26             NaN  23 Nov 2022  30 Nov 2022       7        4   \n",
              "27             NaN  23 Nov 2022  27 Dec 2022      34       31   \n",
              "28         88000.0  23 Nov 2022  30 Nov 2022       7        4   \n",
              "29         91700.0  23 Nov 2022  30 Nov 2022       7        4   \n",
              "30             NaN  23 Nov 2022  23 Dec 2022      30       27   \n",
              "31             NaN  22 Nov 2022  12 Dec 2022      20       16   \n",
              "32         60000.0  22 Nov 2022  26 Dec 2022      34       30   \n",
              "33             NaN  22 Nov 2022  29 Nov 2022       7        3   \n",
              "34             NaN  22 Nov 2022  08 Dec 2022      16       12   \n",
              "35             NaN  22 Nov 2022  08 Dec 2022      16       12   \n",
              "36             NaN  22 Nov 2022  09 Dec 2022      17       13   \n",
              "37             NaN  22 Nov 2022  09 Dec 2022      17       13   \n",
              "38             NaN  22 Nov 2022  09 Dec 2022      17       13   \n",
              "39         70000.0  21 Nov 2022  19 Dec 2022      28       23   \n",
              "40        125000.0  21 Nov 2022  25 Dec 2022      34       29   \n",
              "41         96000.0  21 Nov 2022  25 Dec 2022      34       29   \n",
              "42        100000.0  21 Nov 2022  25 Dec 2022      34       29   \n",
              "43         33300.0  21 Nov 2022  02 Dec 2022      11        6   \n",
              "44             NaN  21 Nov 2022  28 Nov 2022       7        2   \n",
              "45             NaN  21 Nov 2022  25 Dec 2022      34       29   \n",
              "46             NaN  21 Nov 2022  28 Nov 2022       7        2   \n",
              "47             NaN  21 Nov 2022  25 Dec 2022      34       29   \n",
              "48             NaN  20 Nov 2022  07 Dec 2022      17       11   \n",
              "49         96000.0  20 Nov 2022  06 Dec 2022      16       10   \n",
              "\n",
              "                                                 Link  \n",
              "0   https://www.careerjunction.co.za/data-analyst-...  \n",
              "1   https://www.careerjunction.co.za/data-modeler-...  \n",
              "2   https://www.careerjunction.co.za/data-analyst-...  \n",
              "3   https://www.careerjunction.co.za/people-data-a...  \n",
              "4   https://www.careerjunction.co.za/data-engineer...  \n",
              "5   https://www.careerjunction.co.za/junior-data-m...  \n",
              "6   https://www.careerjunction.co.za/senior-data-a...  \n",
              "7   https://www.careerjunction.co.za/data-scientis...  \n",
              "8   https://www.careerjunction.co.za/senior-data-s...  \n",
              "9   https://www.careerjunction.co.za/tm1-data-anal...  \n",
              "10  https://www.careerjunction.co.za/aws-data-engi...  \n",
              "11  https://www.careerjunction.co.za/erp-data-qual...  \n",
              "12  https://www.careerjunction.co.za/data-architec...  \n",
              "13  https://www.careerjunction.co.za/senior-big-da...  \n",
              "14  https://www.careerjunction.co.za/data-modeller...  \n",
              "15  https://www.careerjunction.co.za/bi-data-engin...  \n",
              "16  https://www.careerjunction.co.za/bi-big-data-e...  \n",
              "17  https://www.careerjunction.co.za/data-capturer...  \n",
              "18  https://www.careerjunction.co.za/senior-refere...  \n",
              "19  https://www.careerjunction.co.za/senior-data-e...  \n",
              "20  https://www.careerjunction.co.za/specialist-da...  \n",
              "21  https://www.careerjunction.co.za/data-architec...  \n",
              "22  https://www.careerjunction.co.za/data-analyst-...  \n",
              "23  https://www.careerjunction.co.za/data-privacy-...  \n",
              "24  https://www.careerjunction.co.za/data-manager-...  \n",
              "25  https://www.careerjunction.co.za/data-analyst-...  \n",
              "26  https://www.careerjunction.co.za/data-quality-...  \n",
              "27  https://www.careerjunction.co.za/data-architec...  \n",
              "28  https://www.careerjunction.co.za/data-analyst-...  \n",
              "29  https://www.careerjunction.co.za/data-scientis...  \n",
              "30  https://www.careerjunction.co.za/data-architec...  \n",
              "31  https://www.careerjunction.co.za/data-modeller...  \n",
              "32  https://www.careerjunction.co.za/mid-to-senior...  \n",
              "33  https://www.careerjunction.co.za/data-modeler-...  \n",
              "34  https://www.careerjunction.co.za/senior-projec...  \n",
              "35  https://www.careerjunction.co.za/senior-projec...  \n",
              "36  https://www.careerjunction.co.za/senior-mechan...  \n",
              "37  https://www.careerjunction.co.za/senior-electr...  \n",
              "38  https://www.careerjunction.co.za/mechanical-pr...  \n",
              "39  https://www.careerjunction.co.za/data-analyst-...  \n",
              "40  https://www.careerjunction.co.za/senior-data-e...  \n",
              "41  https://www.careerjunction.co.za/senior-devops...  \n",
              "42  https://www.careerjunction.co.za/data-scientis...  \n",
              "43  https://www.careerjunction.co.za/data-reportin...  \n",
              "44  https://www.careerjunction.co.za/eim-data-qual...  \n",
              "45  https://www.careerjunction.co.za/data-analyst-...  \n",
              "46  https://www.careerjunction.co.za/data-analyst-...  \n",
              "47  https://www.careerjunction.co.za/junior-data-a...  \n",
              "48  https://www.careerjunction.co.za/data-modeler-...  \n",
              "49  https://www.careerjunction.co.za/sap-data-migr...  "
            ],
            "text/html": [
              "\n",
              "  <div id=\"df-9ab6887b-6980-447e-9ab8-7e9f0f86c234\">\n",
              "    <div class=\"colab-df-container\">\n",
              "      <div>\n",
              "<style scoped>\n",
              "    .dataframe tbody tr th:only-of-type {\n",
              "        vertical-align: middle;\n",
              "    }\n",
              "\n",
              "    .dataframe tbody tr th {\n",
              "        vertical-align: top;\n",
              "    }\n",
              "\n",
              "    .dataframe thead th {\n",
              "        text-align: right;\n",
              "    }\n",
              "</style>\n",
              "<table border=\"1\" class=\"dataframe\">\n",
              "  <thead>\n",
              "    <tr style=\"text-align: right;\">\n",
              "      <th></th>\n",
              "      <th>Job Title</th>\n",
              "      <th>Location</th>\n",
              "      <th>Job Type</th>\n",
              "      <th>Salary</th>\n",
              "      <th>Monthly Salary</th>\n",
              "      <th>Posting date</th>\n",
              "      <th>Expiry date</th>\n",
              "      <th>sahdis</th>\n",
              "      <th>sahdis2</th>\n",
              "      <th>Link</th>\n",
              "    </tr>\n",
              "  </thead>\n",
              "  <tbody>\n",
              "    <tr>\n",
              "      <th>0</th>\n",
              "      <td>Data Analyst</td>\n",
              "      <td>Randburg, Gauteng</td>\n",
              "      <td>Permanent Intermediate position</td>\n",
              "      <td>R20,000 - R25,000 per month</td>\n",
              "      <td>20000.0</td>\n",
              "      <td>26 Nov 2022</td>\n",
              "      <td>04 Dec 2022</td>\n",
              "      <td>8</td>\n",
              "      <td>8</td>\n",
              "      <td>https://www.careerjunction.co.za/data-analyst-...</td>\n",
              "    </tr>\n",
              "    <tr>\n",
              "      <th>1</th>\n",
              "      <td>Data Modeler</td>\n",
              "      <td>Johannesburg Region, Gauteng\\n / Work From Home</td>\n",
              "      <td>Contract Specialist position</td>\n",
              "      <td>Undisclosed</td>\n",
              "      <td>NaN</td>\n",
              "      <td>26 Nov 2022</td>\n",
              "      <td>21 Dec 2022</td>\n",
              "      <td>25</td>\n",
              "      <td>25</td>\n",
              "      <td>https://www.careerjunction.co.za/data-modeler-...</td>\n",
              "    </tr>\n",
              "    <tr>\n",
              "      <th>2</th>\n",
              "      <td>Data Analyst (Power BI)</td>\n",
              "      <td>Johannesburg North (Johannesburg North), Gauteng</td>\n",
              "      <td>Contract Senior position</td>\n",
              "      <td>R400.00 - R480.00 per hour</td>\n",
              "      <td>64000.0</td>\n",
              "      <td>25 Nov 2022</td>\n",
              "      <td>07 Dec 2022</td>\n",
              "      <td>12</td>\n",
              "      <td>11</td>\n",
              "      <td>https://www.careerjunction.co.za/data-analyst-...</td>\n",
              "    </tr>\n",
              "    <tr>\n",
              "      <th>3</th>\n",
              "      <td>People Data Analyst at SA Taxi Development Fin...</td>\n",
              "      <td>Midrand, Gauteng</td>\n",
              "      <td>Permanent Intermediate EE position</td>\n",
              "      <td>Undisclosed</td>\n",
              "      <td>NaN</td>\n",
              "      <td>25 Nov 2022</td>\n",
              "      <td>11 Dec 2022</td>\n",
              "      <td>16</td>\n",
              "      <td>15</td>\n",
              "      <td>https://www.careerjunction.co.za/people-data-a...</td>\n",
              "    </tr>\n",
              "    <tr>\n",
              "      <th>4</th>\n",
              "      <td>Data Engineer Services</td>\n",
              "      <td>Pretoria CBD, Gauteng</td>\n",
              "      <td>Contract Senior position</td>\n",
              "      <td>Undisclosed</td>\n",
              "      <td>NaN</td>\n",
              "      <td>25 Nov 2022</td>\n",
              "      <td>29 Dec 2022</td>\n",
              "      <td>34</td>\n",
              "      <td>33</td>\n",
              "      <td>https://www.careerjunction.co.za/data-engineer...</td>\n",
              "    </tr>\n",
              "    <tr>\n",
              "      <th>5</th>\n",
              "      <td>Junior Data Manager (12 Months Contract) Wits ...</td>\n",
              "      <td>Johannesburg Region, Gauteng</td>\n",
              "      <td>Contract Junior position</td>\n",
              "      <td>R Undisclosed</td>\n",
              "      <td>NaN</td>\n",
              "      <td>25 Nov 2022</td>\n",
              "      <td>25 Dec 2022</td>\n",
              "      <td>30</td>\n",
              "      <td>29</td>\n",
              "      <td>https://www.careerjunction.co.za/junior-data-m...</td>\n",
              "    </tr>\n",
              "    <tr>\n",
              "      <th>6</th>\n",
              "      <td>Senior Data Analyst</td>\n",
              "      <td>Johannesburg, Gauteng\\n / Work From Home</td>\n",
              "      <td>Permanent Senior position</td>\n",
              "      <td>R58,300 - R83,300 per month</td>\n",
              "      <td>58300.0</td>\n",
              "      <td>25 Nov 2022</td>\n",
              "      <td>11 Dec 2022</td>\n",
              "      <td>16</td>\n",
              "      <td>15</td>\n",
              "      <td>https://www.careerjunction.co.za/senior-data-a...</td>\n",
              "    </tr>\n",
              "    <tr>\n",
              "      <th>7</th>\n",
              "      <td>Data Scientist</td>\n",
              "      <td>Johannesburg, Gauteng\\n / Work From Home</td>\n",
              "      <td>Permanent Junior position</td>\n",
              "      <td>R29,200 - R41,700 per month</td>\n",
              "      <td>29200.0</td>\n",
              "      <td>25 Nov 2022</td>\n",
              "      <td>11 Dec 2022</td>\n",
              "      <td>16</td>\n",
              "      <td>15</td>\n",
              "      <td>https://www.careerjunction.co.za/data-scientis...</td>\n",
              "    </tr>\n",
              "    <tr>\n",
              "      <th>8</th>\n",
              "      <td>Senior Data Scientist</td>\n",
              "      <td>Johannesburg Region, Gauteng\\n / Work From Home</td>\n",
              "      <td>Permanent Senior position</td>\n",
              "      <td>R83,300 - R125,000 per month</td>\n",
              "      <td>83300.0</td>\n",
              "      <td>25 Nov 2022</td>\n",
              "      <td>11 Dec 2022</td>\n",
              "      <td>16</td>\n",
              "      <td>15</td>\n",
              "      <td>https://www.careerjunction.co.za/senior-data-s...</td>\n",
              "    </tr>\n",
              "    <tr>\n",
              "      <th>9</th>\n",
              "      <td>TM1 Data Analytics Consultant at RecruiTech</td>\n",
              "      <td>Johannesburg, Gauteng\\n / Work From Home</td>\n",
              "      <td>Permanent Intermediate position</td>\n",
              "      <td>R70,000 - R80,000 per month</td>\n",
              "      <td>70000.0</td>\n",
              "      <td>25 Nov 2022</td>\n",
              "      <td>11 Dec 2022</td>\n",
              "      <td>16</td>\n",
              "      <td>15</td>\n",
              "      <td>https://www.careerjunction.co.za/tm1-data-anal...</td>\n",
              "    </tr>\n",
              "    <tr>\n",
              "      <th>10</th>\n",
              "      <td>AWS Data Engineering Trainee - T_004</td>\n",
              "      <td>Pretoria, Gauteng</td>\n",
              "      <td>Contract Intermediate position</td>\n",
              "      <td>R Undisclosed</td>\n",
              "      <td>NaN</td>\n",
              "      <td>24 Nov 2022</td>\n",
              "      <td>06 Dec 2022</td>\n",
              "      <td>12</td>\n",
              "      <td>10</td>\n",
              "      <td>https://www.careerjunction.co.za/aws-data-engi...</td>\n",
              "    </tr>\n",
              "    <tr>\n",
              "      <th>11</th>\n",
              "      <td>ERP Data Quality Specialist</td>\n",
              "      <td>Pretoria CBD, Gauteng</td>\n",
              "      <td>Contract Specialist position</td>\n",
              "      <td>R Undisclosed</td>\n",
              "      <td>NaN</td>\n",
              "      <td>24 Nov 2022</td>\n",
              "      <td>20 Dec 2022</td>\n",
              "      <td>26</td>\n",
              "      <td>24</td>\n",
              "      <td>https://www.careerjunction.co.za/erp-data-qual...</td>\n",
              "    </tr>\n",
              "    <tr>\n",
              "      <th>12</th>\n",
              "      <td>Data Architect (Non-Technical) - Johannesburg ...</td>\n",
              "      <td>Sandown, Gauteng</td>\n",
              "      <td>Permanent Senior position</td>\n",
              "      <td>R100,000 - R108,300 per month</td>\n",
              "      <td>100000.0</td>\n",
              "      <td>24 Nov 2022</td>\n",
              "      <td>28 Dec 2022</td>\n",
              "      <td>34</td>\n",
              "      <td>32</td>\n",
              "      <td>https://www.careerjunction.co.za/data-architec...</td>\n",
              "    </tr>\n",
              "    <tr>\n",
              "      <th>13</th>\n",
              "      <td>Senior Big Data Infrastructure Engineer</td>\n",
              "      <td>Midrand, Gauteng</td>\n",
              "      <td>Permanent Intermediate position</td>\n",
              "      <td>R Undisclosed</td>\n",
              "      <td>NaN</td>\n",
              "      <td>24 Nov 2022</td>\n",
              "      <td>28 Dec 2022</td>\n",
              "      <td>34</td>\n",
              "      <td>32</td>\n",
              "      <td>https://www.careerjunction.co.za/senior-big-da...</td>\n",
              "    </tr>\n",
              "    <tr>\n",
              "      <th>14</th>\n",
              "      <td>Data Modeller - Johannesburg - Up to R850k Per...</td>\n",
              "      <td>Johannesburg, Gauteng</td>\n",
              "      <td>Permanent Senior position</td>\n",
              "      <td>R66,700 - R70,800 per month</td>\n",
              "      <td>66700.0</td>\n",
              "      <td>24 Nov 2022</td>\n",
              "      <td>28 Dec 2022</td>\n",
              "      <td>34</td>\n",
              "      <td>32</td>\n",
              "      <td>https://www.careerjunction.co.za/data-modeller...</td>\n",
              "    </tr>\n",
              "    <tr>\n",
              "      <th>15</th>\n",
              "      <td>BI Data Engineer at Reverside</td>\n",
              "      <td>Gauteng, South Africa</td>\n",
              "      <td>Permanent Senior position</td>\n",
              "      <td>Commission Only</td>\n",
              "      <td>NaN</td>\n",
              "      <td>24 Nov 2022</td>\n",
              "      <td>28 Dec 2022</td>\n",
              "      <td>34</td>\n",
              "      <td>32</td>\n",
              "      <td>https://www.careerjunction.co.za/bi-data-engin...</td>\n",
              "    </tr>\n",
              "    <tr>\n",
              "      <th>16</th>\n",
              "      <td>BI Big Data Engineer at Reverside</td>\n",
              "      <td>Gauteng, South Africa</td>\n",
              "      <td>Permanent Senior position</td>\n",
              "      <td>Commission Only</td>\n",
              "      <td>NaN</td>\n",
              "      <td>24 Nov 2022</td>\n",
              "      <td>28 Dec 2022</td>\n",
              "      <td>34</td>\n",
              "      <td>32</td>\n",
              "      <td>https://www.careerjunction.co.za/bi-big-data-e...</td>\n",
              "    </tr>\n",
              "    <tr>\n",
              "      <th>17</th>\n",
              "      <td>Data Capturer Administrator</td>\n",
              "      <td>Laser Park, Gauteng\\n / Work From Home</td>\n",
              "      <td>Permanent Intermediate position</td>\n",
              "      <td>R15,000 - R18,000 per month</td>\n",
              "      <td>15000.0</td>\n",
              "      <td>24 Nov 2022</td>\n",
              "      <td>28 Dec 2022</td>\n",
              "      <td>34</td>\n",
              "      <td>32</td>\n",
              "      <td>https://www.careerjunction.co.za/data-capturer...</td>\n",
              "    </tr>\n",
              "    <tr>\n",
              "      <th>18</th>\n",
              "      <td>Senior Reference and Master Data Management Sp...</td>\n",
              "      <td>Pretoria CBD, Gauteng</td>\n",
              "      <td>Contract Specialist position</td>\n",
              "      <td>R Undisclosed</td>\n",
              "      <td>NaN</td>\n",
              "      <td>24 Nov 2022</td>\n",
              "      <td>20 Dec 2022</td>\n",
              "      <td>26</td>\n",
              "      <td>24</td>\n",
              "      <td>https://www.careerjunction.co.za/senior-refere...</td>\n",
              "    </tr>\n",
              "    <tr>\n",
              "      <th>19</th>\n",
              "      <td>Senior Data Exchange Platform Engineer (DBA)</td>\n",
              "      <td>Johannesburg North (Johannesburg North), Gauteng</td>\n",
              "      <td>Contract Senior position</td>\n",
              "      <td>R Undisclosed</td>\n",
              "      <td>NaN</td>\n",
              "      <td>24 Nov 2022</td>\n",
              "      <td>08 Dec 2022</td>\n",
              "      <td>14</td>\n",
              "      <td>12</td>\n",
              "      <td>https://www.careerjunction.co.za/senior-data-e...</td>\n",
              "    </tr>\n",
              "    <tr>\n",
              "      <th>20</th>\n",
              "      <td>Specialist: Data Analytics</td>\n",
              "      <td>Pretoria, Gauteng</td>\n",
              "      <td>Permanent Senior position</td>\n",
              "      <td>R Undisclosed</td>\n",
              "      <td>NaN</td>\n",
              "      <td>24 Nov 2022</td>\n",
              "      <td>29 Nov 2022</td>\n",
              "      <td>5</td>\n",
              "      <td>3</td>\n",
              "      <td>https://www.careerjunction.co.za/specialist-da...</td>\n",
              "    </tr>\n",
              "    <tr>\n",
              "      <th>21</th>\n",
              "      <td>Data Architect - Hybrid - R900k Per Annum at e...</td>\n",
              "      <td>Johannesburg, Gauteng\\n / Work From Home</td>\n",
              "      <td>Permanent Senior position</td>\n",
              "      <td>R75,000 per month</td>\n",
              "      <td>75000.0</td>\n",
              "      <td>24 Nov 2022</td>\n",
              "      <td>19 Dec 2022</td>\n",
              "      <td>25</td>\n",
              "      <td>23</td>\n",
              "      <td>https://www.careerjunction.co.za/data-architec...</td>\n",
              "    </tr>\n",
              "    <tr>\n",
              "      <th>22</th>\n",
              "      <td>Data Analyst (JHB) at Datafin Recruitment</td>\n",
              "      <td>Johannesburg, Gauteng</td>\n",
              "      <td>Permanent Executive position</td>\n",
              "      <td>R Undisclosed</td>\n",
              "      <td>NaN</td>\n",
              "      <td>24 Nov 2022</td>\n",
              "      <td>13 Dec 2022</td>\n",
              "      <td>19</td>\n",
              "      <td>17</td>\n",
              "      <td>https://www.careerjunction.co.za/data-analyst-...</td>\n",
              "    </tr>\n",
              "    <tr>\n",
              "      <th>23</th>\n",
              "      <td>Data Privacy Business Partner</td>\n",
              "      <td>Pretoria CBD, Gauteng</td>\n",
              "      <td>Permanent Specialist EE position</td>\n",
              "      <td>Undisclosed</td>\n",
              "      <td>NaN</td>\n",
              "      <td>24 Nov 2022</td>\n",
              "      <td>28 Dec 2022</td>\n",
              "      <td>34</td>\n",
              "      <td>32</td>\n",
              "      <td>https://www.careerjunction.co.za/data-privacy-...</td>\n",
              "    </tr>\n",
              "    <tr>\n",
              "      <th>24</th>\n",
              "      <td>Data Manager (Wits CHRU)  at AJ Personnel</td>\n",
              "      <td>Johannesburg Region, Gauteng</td>\n",
              "      <td>Permanent Intermediate position</td>\n",
              "      <td>R Undisclosed</td>\n",
              "      <td>NaN</td>\n",
              "      <td>23 Nov 2022</td>\n",
              "      <td>15 Dec 2022</td>\n",
              "      <td>22</td>\n",
              "      <td>19</td>\n",
              "      <td>https://www.careerjunction.co.za/data-manager-...</td>\n",
              "    </tr>\n",
              "    <tr>\n",
              "      <th>25</th>\n",
              "      <td>Data analyst</td>\n",
              "      <td>Illovo, Gauteng</td>\n",
              "      <td>Permanent Intermediate position</td>\n",
              "      <td>R35,000 - R40,000 per month</td>\n",
              "      <td>35000.0</td>\n",
              "      <td>23 Nov 2022</td>\n",
              "      <td>19 Dec 2022</td>\n",
              "      <td>26</td>\n",
              "      <td>23</td>\n",
              "      <td>https://www.careerjunction.co.za/data-analyst-...</td>\n",
              "    </tr>\n",
              "    <tr>\n",
              "      <th>26</th>\n",
              "      <td>Data Quality Solutions Architect</td>\n",
              "      <td>Pretoria CBD, Gauteng</td>\n",
              "      <td>Contract Senior position</td>\n",
              "      <td>R Undisclosed</td>\n",
              "      <td>NaN</td>\n",
              "      <td>23 Nov 2022</td>\n",
              "      <td>30 Nov 2022</td>\n",
              "      <td>7</td>\n",
              "      <td>4</td>\n",
              "      <td>https://www.careerjunction.co.za/data-quality-...</td>\n",
              "    </tr>\n",
              "    <tr>\n",
              "      <th>27</th>\n",
              "      <td>Data Architect</td>\n",
              "      <td>Midrand, Gauteng</td>\n",
              "      <td>Contract Specialist position</td>\n",
              "      <td>Undisclosed</td>\n",
              "      <td>NaN</td>\n",
              "      <td>23 Nov 2022</td>\n",
              "      <td>27 Dec 2022</td>\n",
              "      <td>34</td>\n",
              "      <td>31</td>\n",
              "      <td>https://www.careerjunction.co.za/data-architec...</td>\n",
              "    </tr>\n",
              "    <tr>\n",
              "      <th>28</th>\n",
              "      <td>Data Analyst - Johannesburg - Hybrid - up to R...</td>\n",
              "      <td>Sandown, Gauteng\\n / Work From Home</td>\n",
              "      <td>Contract Senior position</td>\n",
              "      <td>R88,000 - R104,000 per month</td>\n",
              "      <td>88000.0</td>\n",
              "      <td>23 Nov 2022</td>\n",
              "      <td>30 Nov 2022</td>\n",
              "      <td>7</td>\n",
              "      <td>4</td>\n",
              "      <td>https://www.careerjunction.co.za/data-analyst-...</td>\n",
              "    </tr>\n",
              "    <tr>\n",
              "      <th>29</th>\n",
              "      <td>Data Scientist - Sandton (Hybrid role) - R1.1m...</td>\n",
              "      <td>Johannesburg, Gauteng</td>\n",
              "      <td>Permanent Senior position</td>\n",
              "      <td>R91,700 per month</td>\n",
              "      <td>91700.0</td>\n",
              "      <td>23 Nov 2022</td>\n",
              "      <td>30 Nov 2022</td>\n",
              "      <td>7</td>\n",
              "      <td>4</td>\n",
              "      <td>https://www.careerjunction.co.za/data-scientis...</td>\n",
              "    </tr>\n",
              "    <tr>\n",
              "      <th>30</th>\n",
              "      <td>Data Architect LWR1243 at Mediro ICT</td>\n",
              "      <td>Johannesburg Region, Gauteng</td>\n",
              "      <td>Contract Senior position</td>\n",
              "      <td>R Undisclosed</td>\n",
              "      <td>NaN</td>\n",
              "      <td>23 Nov 2022</td>\n",
              "      <td>23 Dec 2022</td>\n",
              "      <td>30</td>\n",
              "      <td>27</td>\n",
              "      <td>https://www.careerjunction.co.za/data-architec...</td>\n",
              "    </tr>\n",
              "    <tr>\n",
              "      <th>31</th>\n",
              "      <td>Data Modeller (JHB) at Datafin Recruitment</td>\n",
              "      <td>Sandton, Gauteng</td>\n",
              "      <td>Permanent Executive position</td>\n",
              "      <td>R Undisclosed</td>\n",
              "      <td>NaN</td>\n",
              "      <td>22 Nov 2022</td>\n",
              "      <td>12 Dec 2022</td>\n",
              "      <td>20</td>\n",
              "      <td>16</td>\n",
              "      <td>https://www.careerjunction.co.za/data-modeller...</td>\n",
              "    </tr>\n",
              "    <tr>\n",
              "      <th>32</th>\n",
              "      <td>Mid to Senior Data Engineer</td>\n",
              "      <td>Johannesburg, Gauteng</td>\n",
              "      <td>Permanent Senior position</td>\n",
              "      <td>R60,000 - R85,000 per month</td>\n",
              "      <td>60000.0</td>\n",
              "      <td>22 Nov 2022</td>\n",
              "      <td>26 Dec 2022</td>\n",
              "      <td>34</td>\n",
              "      <td>30</td>\n",
              "      <td>https://www.careerjunction.co.za/mid-to-senior...</td>\n",
              "    </tr>\n",
              "    <tr>\n",
              "      <th>33</th>\n",
              "      <td>Data Modeler at Sabenza IT</td>\n",
              "      <td>Sandown, Gauteng</td>\n",
              "      <td>Contract Senior position</td>\n",
              "      <td>R Undisclosed</td>\n",
              "      <td>NaN</td>\n",
              "      <td>22 Nov 2022</td>\n",
              "      <td>29 Nov 2022</td>\n",
              "      <td>7</td>\n",
              "      <td>3</td>\n",
              "      <td>https://www.careerjunction.co.za/data-modeler-...</td>\n",
              "    </tr>\n",
              "    <tr>\n",
              "      <th>34</th>\n",
              "      <td>Senior Project Mechanical Design Engineer (Dat...</td>\n",
              "      <td>Johannesburg North (Johannesburg North), Gauteng</td>\n",
              "      <td>Permanent Intermediate position</td>\n",
              "      <td>R Undisclosed</td>\n",
              "      <td>NaN</td>\n",
              "      <td>22 Nov 2022</td>\n",
              "      <td>08 Dec 2022</td>\n",
              "      <td>16</td>\n",
              "      <td>12</td>\n",
              "      <td>https://www.careerjunction.co.za/senior-projec...</td>\n",
              "    </tr>\n",
              "    <tr>\n",
              "      <th>35</th>\n",
              "      <td>Senior Project Electrical Design Engineer (Ire...</td>\n",
              "      <td>Johannesburg North (Johannesburg North), Gauteng</td>\n",
              "      <td>Permanent Intermediate position</td>\n",
              "      <td>R Undisclosed</td>\n",
              "      <td>NaN</td>\n",
              "      <td>22 Nov 2022</td>\n",
              "      <td>08 Dec 2022</td>\n",
              "      <td>16</td>\n",
              "      <td>12</td>\n",
              "      <td>https://www.careerjunction.co.za/senior-projec...</td>\n",
              "    </tr>\n",
              "    <tr>\n",
              "      <th>36</th>\n",
              "      <td>Senior Mechanical Design Engineer (Ireland: Da...</td>\n",
              "      <td>Johannesburg North (Johannesburg North), Gauteng</td>\n",
              "      <td>Permanent Intermediate position</td>\n",
              "      <td>R Undisclosed</td>\n",
              "      <td>NaN</td>\n",
              "      <td>22 Nov 2022</td>\n",
              "      <td>09 Dec 2022</td>\n",
              "      <td>17</td>\n",
              "      <td>13</td>\n",
              "      <td>https://www.careerjunction.co.za/senior-mechan...</td>\n",
              "    </tr>\n",
              "    <tr>\n",
              "      <th>37</th>\n",
              "      <td>Senior Electrical Design Engineer (Ireland: Da...</td>\n",
              "      <td>Johannesburg North (Johannesburg North), Gauteng</td>\n",
              "      <td>Permanent Intermediate position</td>\n",
              "      <td>R Undisclosed</td>\n",
              "      <td>NaN</td>\n",
              "      <td>22 Nov 2022</td>\n",
              "      <td>09 Dec 2022</td>\n",
              "      <td>17</td>\n",
              "      <td>13</td>\n",
              "      <td>https://www.careerjunction.co.za/senior-electr...</td>\n",
              "    </tr>\n",
              "    <tr>\n",
              "      <th>38</th>\n",
              "      <td>Mechanical Project Design Engineer (Ireland: D...</td>\n",
              "      <td>Johannesburg North (Johannesburg North), Gauteng</td>\n",
              "      <td>Permanent Intermediate position</td>\n",
              "      <td>R Undisclosed</td>\n",
              "      <td>NaN</td>\n",
              "      <td>22 Nov 2022</td>\n",
              "      <td>09 Dec 2022</td>\n",
              "      <td>17</td>\n",
              "      <td>13</td>\n",
              "      <td>https://www.careerjunction.co.za/mechanical-pr...</td>\n",
              "    </tr>\n",
              "    <tr>\n",
              "      <th>39</th>\n",
              "      <td>Data Analyst at Datonomy Solutions</td>\n",
              "      <td>Johannesburg North (Johannesburg North), Gauteng</td>\n",
              "      <td>Contract Intermediate position</td>\n",
              "      <td>R70,000 - R90,000 per month</td>\n",
              "      <td>70000.0</td>\n",
              "      <td>21 Nov 2022</td>\n",
              "      <td>19 Dec 2022</td>\n",
              "      <td>28</td>\n",
              "      <td>23</td>\n",
              "      <td>https://www.careerjunction.co.za/data-analyst-...</td>\n",
              "    </tr>\n",
              "    <tr>\n",
              "      <th>40</th>\n",
              "      <td>Senior Data Engineer (Azure) - Johannesburg - ...</td>\n",
              "      <td>Johannesburg, Gauteng</td>\n",
              "      <td>Contract Senior position</td>\n",
              "      <td>R125,000 per month</td>\n",
              "      <td>125000.0</td>\n",
              "      <td>21 Nov 2022</td>\n",
              "      <td>25 Dec 2022</td>\n",
              "      <td>34</td>\n",
              "      <td>29</td>\n",
              "      <td>https://www.careerjunction.co.za/senior-data-e...</td>\n",
              "    </tr>\n",
              "    <tr>\n",
              "      <th>41</th>\n",
              "      <td>Senior DevOps Data Engineer - Johannesburg/Pre...</td>\n",
              "      <td>Johannesburg, Gauteng\\n / Work From Home</td>\n",
              "      <td>Contract Senior position</td>\n",
              "      <td>R96,000 per month</td>\n",
              "      <td>96000.0</td>\n",
              "      <td>21 Nov 2022</td>\n",
              "      <td>25 Dec 2022</td>\n",
              "      <td>34</td>\n",
              "      <td>29</td>\n",
              "      <td>https://www.careerjunction.co.za/senior-devops...</td>\n",
              "    </tr>\n",
              "    <tr>\n",
              "      <th>42</th>\n",
              "      <td>Data Scientist</td>\n",
              "      <td>Johannesburg Region, Gauteng\\n / Work From Home</td>\n",
              "      <td>Permanent Senior position</td>\n",
              "      <td>R100,000 per month</td>\n",
              "      <td>100000.0</td>\n",
              "      <td>21 Nov 2022</td>\n",
              "      <td>25 Dec 2022</td>\n",
              "      <td>34</td>\n",
              "      <td>29</td>\n",
              "      <td>https://www.careerjunction.co.za/data-scientis...</td>\n",
              "    </tr>\n",
              "    <tr>\n",
              "      <th>43</th>\n",
              "      <td>Data Reporting Analyst</td>\n",
              "      <td>Johannesburg North (Johannesburg North), Gauteng</td>\n",
              "      <td>Permanent Senior position</td>\n",
              "      <td>R33,300 - R41,700 per month</td>\n",
              "      <td>33300.0</td>\n",
              "      <td>21 Nov 2022</td>\n",
              "      <td>02 Dec 2022</td>\n",
              "      <td>11</td>\n",
              "      <td>6</td>\n",
              "      <td>https://www.careerjunction.co.za/data-reportin...</td>\n",
              "    </tr>\n",
              "    <tr>\n",
              "      <th>44</th>\n",
              "      <td>EIM Data Quality Specialist</td>\n",
              "      <td>Pretoria CBD, Gauteng</td>\n",
              "      <td>Contract Specialist position</td>\n",
              "      <td>R Undisclosed</td>\n",
              "      <td>NaN</td>\n",
              "      <td>21 Nov 2022</td>\n",
              "      <td>28 Nov 2022</td>\n",
              "      <td>7</td>\n",
              "      <td>2</td>\n",
              "      <td>https://www.careerjunction.co.za/eim-data-qual...</td>\n",
              "    </tr>\n",
              "    <tr>\n",
              "      <th>45</th>\n",
              "      <td>Data Analyst</td>\n",
              "      <td>Johannesburg, Gauteng</td>\n",
              "      <td>Permanent Intermediate position</td>\n",
              "      <td>R Undisclosed</td>\n",
              "      <td>NaN</td>\n",
              "      <td>21 Nov 2022</td>\n",
              "      <td>25 Dec 2022</td>\n",
              "      <td>34</td>\n",
              "      <td>29</td>\n",
              "      <td>https://www.careerjunction.co.za/data-analyst-...</td>\n",
              "    </tr>\n",
              "    <tr>\n",
              "      <th>46</th>\n",
              "      <td>Data Analyst</td>\n",
              "      <td>Pretoria CBD, Gauteng</td>\n",
              "      <td>Permanent Specialist position</td>\n",
              "      <td>Undisclosed</td>\n",
              "      <td>NaN</td>\n",
              "      <td>21 Nov 2022</td>\n",
              "      <td>28 Nov 2022</td>\n",
              "      <td>7</td>\n",
              "      <td>2</td>\n",
              "      <td>https://www.careerjunction.co.za/data-analyst-...</td>\n",
              "    </tr>\n",
              "    <tr>\n",
              "      <th>47</th>\n",
              "      <td>Junior Data Analyst</td>\n",
              "      <td>Centurion, Gauteng</td>\n",
              "      <td>Permanent Junior position</td>\n",
              "      <td>R Undisclosed</td>\n",
              "      <td>NaN</td>\n",
              "      <td>21 Nov 2022</td>\n",
              "      <td>25 Dec 2022</td>\n",
              "      <td>34</td>\n",
              "      <td>29</td>\n",
              "      <td>https://www.careerjunction.co.za/junior-data-a...</td>\n",
              "    </tr>\n",
              "    <tr>\n",
              "      <th>48</th>\n",
              "      <td>Data Modeler</td>\n",
              "      <td>Johannesburg, Gauteng</td>\n",
              "      <td>Contract Senior position</td>\n",
              "      <td>Undisclosed</td>\n",
              "      <td>NaN</td>\n",
              "      <td>20 Nov 2022</td>\n",
              "      <td>07 Dec 2022</td>\n",
              "      <td>17</td>\n",
              "      <td>11</td>\n",
              "      <td>https://www.careerjunction.co.za/data-modeler-...</td>\n",
              "    </tr>\n",
              "    <tr>\n",
              "      <th>49</th>\n",
              "      <td>SAP Data Migration Lead</td>\n",
              "      <td>Johannesburg, Gauteng</td>\n",
              "      <td>Contract Senior position</td>\n",
              "      <td>R600.00 per hour</td>\n",
              "      <td>96000.0</td>\n",
              "      <td>20 Nov 2022</td>\n",
              "      <td>06 Dec 2022</td>\n",
              "      <td>16</td>\n",
              "      <td>10</td>\n",
              "      <td>https://www.careerjunction.co.za/sap-data-migr...</td>\n",
              "    </tr>\n",
              "  </tbody>\n",
              "</table>\n",
              "</div>\n",
              "      <button class=\"colab-df-convert\" onclick=\"convertToInteractive('df-9ab6887b-6980-447e-9ab8-7e9f0f86c234')\"\n",
              "              title=\"Convert this dataframe to an interactive table.\"\n",
              "              style=\"display:none;\">\n",
              "        \n",
              "  <svg xmlns=\"http://www.w3.org/2000/svg\" height=\"24px\"viewBox=\"0 0 24 24\"\n",
              "       width=\"24px\">\n",
              "    <path d=\"M0 0h24v24H0V0z\" fill=\"none\"/>\n",
              "    <path d=\"M18.56 5.44l.94 2.06.94-2.06 2.06-.94-2.06-.94-.94-2.06-.94 2.06-2.06.94zm-11 1L8.5 8.5l.94-2.06 2.06-.94-2.06-.94L8.5 2.5l-.94 2.06-2.06.94zm10 10l.94 2.06.94-2.06 2.06-.94-2.06-.94-.94-2.06-.94 2.06-2.06.94z\"/><path d=\"M17.41 7.96l-1.37-1.37c-.4-.4-.92-.59-1.43-.59-.52 0-1.04.2-1.43.59L10.3 9.45l-7.72 7.72c-.78.78-.78 2.05 0 2.83L4 21.41c.39.39.9.59 1.41.59.51 0 1.02-.2 1.41-.59l7.78-7.78 2.81-2.81c.8-.78.8-2.07 0-2.86zM5.41 20L4 18.59l7.72-7.72 1.47 1.35L5.41 20z\"/>\n",
              "  </svg>\n",
              "      </button>\n",
              "      \n",
              "  <style>\n",
              "    .colab-df-container {\n",
              "      display:flex;\n",
              "      flex-wrap:wrap;\n",
              "      gap: 12px;\n",
              "    }\n",
              "\n",
              "    .colab-df-convert {\n",
              "      background-color: #E8F0FE;\n",
              "      border: none;\n",
              "      border-radius: 50%;\n",
              "      cursor: pointer;\n",
              "      display: none;\n",
              "      fill: #1967D2;\n",
              "      height: 32px;\n",
              "      padding: 0 0 0 0;\n",
              "      width: 32px;\n",
              "    }\n",
              "\n",
              "    .colab-df-convert:hover {\n",
              "      background-color: #E2EBFA;\n",
              "      box-shadow: 0px 1px 2px rgba(60, 64, 67, 0.3), 0px 1px 3px 1px rgba(60, 64, 67, 0.15);\n",
              "      fill: #174EA6;\n",
              "    }\n",
              "\n",
              "    [theme=dark] .colab-df-convert {\n",
              "      background-color: #3B4455;\n",
              "      fill: #D2E3FC;\n",
              "    }\n",
              "\n",
              "    [theme=dark] .colab-df-convert:hover {\n",
              "      background-color: #434B5C;\n",
              "      box-shadow: 0px 1px 3px 1px rgba(0, 0, 0, 0.15);\n",
              "      filter: drop-shadow(0px 1px 2px rgba(0, 0, 0, 0.3));\n",
              "      fill: #FFFFFF;\n",
              "    }\n",
              "  </style>\n",
              "\n",
              "      <script>\n",
              "        const buttonEl =\n",
              "          document.querySelector('#df-9ab6887b-6980-447e-9ab8-7e9f0f86c234 button.colab-df-convert');\n",
              "        buttonEl.style.display =\n",
              "          google.colab.kernel.accessAllowed ? 'block' : 'none';\n",
              "\n",
              "        async function convertToInteractive(key) {\n",
              "          const element = document.querySelector('#df-9ab6887b-6980-447e-9ab8-7e9f0f86c234');\n",
              "          const dataTable =\n",
              "            await google.colab.kernel.invokeFunction('convertToInteractive',\n",
              "                                                     [key], {});\n",
              "          if (!dataTable) return;\n",
              "\n",
              "          const docLinkHtml = 'Like what you see? Visit the ' +\n",
              "            '<a target=\"_blank\" href=https://colab.research.google.com/notebooks/data_table.ipynb>data table notebook</a>'\n",
              "            + ' to learn more about interactive tables.';\n",
              "          element.innerHTML = '';\n",
              "          dataTable['output_type'] = 'display_data';\n",
              "          await google.colab.output.renderOutput(dataTable, element);\n",
              "          const docLink = document.createElement('div');\n",
              "          docLink.innerHTML = docLinkHtml;\n",
              "          element.appendChild(docLink);\n",
              "        }\n",
              "      </script>\n",
              "    </div>\n",
              "  </div>\n",
              "  "
            ]
          },
          "metadata": {},
          "execution_count": 200
        }
      ]
    },
    {
      "cell_type": "code",
      "source": [
        "# if 'per hour' in a_job['Salary']:\n",
        "#   a_job['Montly Salary'] = a_job['Salary'].strip(',').split()[0]\n",
        "#       a_job['Montly Salary'] = a_job['Montly Salary'].split('.')[0]\n",
        "#       a_job['Montly Salary'] = int(''.join(jk for jk in a_job['Montly Salary'] if jk.isalnum()))* 160\n",
        "#     elif 'per day' in a_job['Salary']:\n",
        "#       a_job['Montly Salary'] = a_job['Salary'].strip(',').split()[0]\n",
        "#       a_job['Montly Salary'] = int(''.join(jk for jk in a_job['Montly Salary'] if jk.isalnum()))* 20\n",
        "#     elif 'per week' in a_job['Salary']:\n",
        "#       a_job['Montly Salary'] = a_job['Salary'].strip(',').split()[0]\n",
        "#       a_job['Montly Salary'] = int(''.join(jk for jk in a_job['Montly Salary'] if jk.isalnum()))*4\n",
        "#     elif 'per fort' in a_job['Salary']:\n",
        "#       a_job['Montly Salary'] = a_job['Salary'].strip(',').split()[0]\n",
        "#       a_job['Montly Salary'] = int(''.join(jk for jk in a_job['Montly Salary'] if jk.isalnum()))*2\n",
        "#     elif 'per month' in a_job['Salary']:\n",
        "#       a_job['Montly Salary'] = a_job['Salary'].strip(',').split()[0]\n",
        "#       a_job['Montly Salary'] = int(''.join(jk for jk in a_job['Montly Salary'] if jk.isalnum()))\n",
        "#     elif 'per year' in a_job['Salary']:\n",
        "#       a_job['Montly Salary'] = a_job['Salary'].strip(',').split()[0]\n",
        "#       a_job['Montly Salary'] = int(''.join(jk for jk in a_job['Montly Salary'] if jk.isalnum()))/12\n",
        "#     else:\n",
        "#       a_job['Montly Salary'] = np.NaN\n"
      ],
      "metadata": {
        "id": "W-3vL00l8gRk"
      },
      "execution_count": null,
      "outputs": []
    },
    {
      "cell_type": "code",
      "source": [
        "gen_url100 = \"https://www.careerjunction.co.za/jobs/results?keywords=data&autosuggestEndpoint=%2fautosuggest&location=2747&category=&btnSubmit=+&page=2898\"\n",
        "resp100 = requests.get(gen_url100)\n",
        "print(resp100, resp100.reason) \n",
        "print(resp100.status_code)"
      ],
      "metadata": {
        "colab": {
          "base_uri": "https://localhost:8080/"
        },
        "id": "eP0wDLB7Hb1H",
        "outputId": "5d15b536-6b3c-4758-b128-56603fa6dc91"
      },
      "execution_count": null,
      "outputs": [
        {
          "output_type": "stream",
          "name": "stdout",
          "text": [
            "<Response [200]> OK\n",
            "200\n"
          ]
        }
      ]
    },
    {
      "cell_type": "code",
      "source": [
        "pasta = BeautifulSoup(resp.content, 'html.parser')\n",
        "jobs = pasta.find('div', class_=\"two-thirds\")\n",
        "j_cards = jobs.find_all('div', class_=\"job-result\")\n",
        "#j_cards.pop(5)\n",
        "print(len(j_cards))\n",
        "#j_cards"
      ],
      "metadata": {
        "id": "gQx2wOSuNvSD",
        "colab": {
          "base_uri": "https://localhost:8080/"
        },
        "outputId": "c0c93aa9-264f-4f95-d776-23691de319c5"
      },
      "execution_count": null,
      "outputs": [
        {
          "output_type": "stream",
          "name": "stdout",
          "text": [
            "25\n"
          ]
        }
      ]
    },
    {
      "cell_type": "code",
      "source": [
        "li = []\n",
        "for j_card in j_cards:\n",
        "  j_today = date.today()\n",
        "  a_job = {}\n",
        "  a_job['Job Title'] = (j_card.find('h2').text.strip())\n",
        "  a_job['Company'] = (j_card.find('h3').text.strip())\n",
        "  a_job['Location'] = (j_card.find('li', class_=\"location\").text.strip())\n",
        "  a_job['Job Type'] = (j_card.find('li', class_=\"position\").text.strip())\n",
        "  a_job['Salary'] = (j_card.find('li', class_=\"salary\").text.strip('R').strip())\n",
        "  a_job['Posting date'] = (j_card.find('li', class_=\"updated-time\").text.strip('Posted').strip())\n",
        "  j_expiry = j_card.find('li', class_=\"expires\").text.split()[2]\n",
        "  if j_expiry != 'today':\n",
        "    ini_exp = j_today + timedelta(days=int(j_expiry))\n",
        "    a_job['Expiry date'] = ini_exp.strftime('%d %b %Y')\n",
        "  else:\n",
        "    a_job['Expiry date'] = j_today.strftime('%d %b %Y')\n",
        "  a_job['Duration'] = pd.to_datetime(a_job['Expiry date']) - pd.to_datetime(a_job['Posting date'])\n",
        "  #a_job['Job URL'] = (j_card.find('h2').text.strip())\n",
        "  #a_job['j_title'] = (j_card.find('h2').text.strip())\n",
        "\n",
        "  li.append(a_job)\n",
        "\n",
        "#two-way step in accessing an embedded feature, find outer tag and assign it\n",
        "#then use asigned_varaible.attrs['some_tag'] to locate the embedded feature\n",
        "#eg -> var = j_card.find('h2') followed by feature = var.attrs['a'] \n",
        "\n",
        "#convert final list of dictionaries to a pandas dataframe then use to_csv after\n",
        "#df = pd.DataFrame(jobs) followed by df.to_csv('file_name.csv')\n",
        "\n",
        "len(li)\n",
        "li[3]"
      ],
      "metadata": {
        "colab": {
          "base_uri": "https://localhost:8080/"
        },
        "id": "9_M8qSBYQ2Mt",
        "outputId": "c8092de7-3645-4b6d-e49b-b3a17b81e411"
      },
      "execution_count": 134,
      "outputs": [
        {
          "output_type": "execute_result",
          "data": {
            "text/plain": [
              "{'Job Title': 'Data Scientist - Sandton (Hybrid role) - R1.1m per annum cost to company at e-Merge IT Recruitment',\n",
              " 'Company': 'e-Merge IT Recruitment',\n",
              " 'Location': 'Johannesburg, Gauteng',\n",
              " 'Job Type': 'Permanent Senior position',\n",
              " 'Salary': '91,700 per month',\n",
              " 'Posting date': '23 Nov 2022',\n",
              " 'Expiry date': '30 Nov 2022',\n",
              " 'Duration': Timedelta('7 days 00:00:00')}"
            ]
          },
          "metadata": {},
          "execution_count": 134
        }
      ]
    },
    {
      "cell_type": "code",
      "source": [
        "#while True:\n",
        "#  try:\n",
        "#    gen_url\n",
        "#  except AttributeError:\n",
        "#    break\n",
        "\n",
        "#do the for loop shandis from here to start again"
      ],
      "metadata": {
        "id": "dAa4RaAtAhD0"
      },
      "execution_count": null,
      "outputs": []
    },
    {
      "cell_type": "code",
      "source": [
        "#gen_url will change to url when get_url function is finally up and running\n",
        "tsamaea = jobs.find('ul', {'id':'pagination'})\n",
        "gen_url2 = tsamaea.find('a', class_=\"alt\")\n",
        "semate = gen_url[0]\n",
        "print(gen_url2)\n",
        "print(semate)\n"
      ],
      "metadata": {
        "colab": {
          "base_uri": "https://localhost:8080/"
        },
        "id": "HGukwUZq3EsZ",
        "outputId": "dc79d3c3-9c0a-4b32-fd0e-1a78060672bc"
      },
      "execution_count": null,
      "outputs": [
        {
          "output_type": "stream",
          "name": "stdout",
          "text": [
            "<a class=\"alt\" href=\"https://www.careerjunction.co.za/jobs/results?keywords=data&amp;autosuggestEndpoint=%2fautosuggest&amp;location=2747&amp;category=&amp;btnSubmit=+&amp;page=1\" rel=\"nofollow\">&lt;</a>\n",
            "h\n"
          ]
        }
      ]
    },
    {
      "cell_type": "code",
      "source": [
        "eew = [1,4]\n",
        "rew = [1]\n",
        "rew[-1]"
      ],
      "metadata": {
        "colab": {
          "base_uri": "https://localhost:8080/"
        },
        "id": "SZ_R9SXf79m3",
        "outputId": "34f068f9-17ae-417b-9675-d76f8fb67285"
      },
      "execution_count": null,
      "outputs": [
        {
          "output_type": "execute_result",
          "data": {
            "text/plain": [
              "1"
            ]
          },
          "metadata": {},
          "execution_count": 2
        }
      ]
    },
    {
      "cell_type": "code",
      "source": [
        "rea_today = datetime.now()#.strftime('%d %b %Y')\n",
        "rea_today = rea_today + timedelta(days=1)\n",
        "rea_today.strftime('%d %b %Y')"
      ],
      "metadata": {
        "colab": {
          "base_uri": "https://localhost:8080/",
          "height": 36
        },
        "id": "mXjJ9wwQiU2k",
        "outputId": "b8638bfc-c72e-4c1f-b829-3d7b0d92cda6"
      },
      "execution_count": null,
      "outputs": [
        {
          "output_type": "execute_result",
          "data": {
            "text/plain": [
              "'25 Nov 2022'"
            ],
            "application/vnd.google.colaboratory.intrinsic+json": {
              "type": "string"
            }
          },
          "metadata": {},
          "execution_count": 82
        }
      ]
    },
    {
      "cell_type": "markdown",
      "source": [
        "## **Practice runs**"
      ],
      "metadata": {
        "id": "SixS1IEGNY9F"
      }
    },
    {
      "cell_type": "markdown",
      "source": [
        "### *Prac 1*"
      ],
      "metadata": {
        "id": "QqBBWg9PHP3I"
      }
    },
    {
      "cell_type": "code",
      "source": [
        "#pip install beautifulsoup4"
      ],
      "metadata": {
        "id": "h9v751tkP5iJ"
      },
      "execution_count": null,
      "outputs": []
    },
    {
      "cell_type": "code",
      "source": [
        "#from selenium import webdriver\n",
        "#from bs4 import BeautifulSoup as bfs\n",
        "#import pandas as pd"
      ],
      "metadata": {
        "id": "sicsyjXfNdkC"
      },
      "execution_count": null,
      "outputs": []
    },
    {
      "cell_type": "code",
      "source": [
        "#driver = webdriver.Chrome('/usr/lib/chromium-browser/chromedriver')"
      ],
      "metadata": {
        "id": "8cC1UNTQRlXP"
      },
      "execution_count": null,
      "outputs": []
    },
    {
      "cell_type": "code",
      "source": [
        "#products = []\n",
        "#prices = []\n",
        "#ratings = []\n",
        "#webdriver.get('''\"<a href=\"https://www.flipkart.com/laptops/\">https://www.flipkart.com/laptops/</a>~buyback-guarantee-on-laptops-/pr?sid=6bo%2Cb5g&amp;amp;amp;amp;amp;amp;amp;amp;amp;uniq\"''')"
      ],
      "metadata": {
        "id": "FAm5rGVPQxqm"
      },
      "execution_count": null,
      "outputs": []
    },
    {
      "cell_type": "code",
      "source": [
        "#pip install lxml\n"
      ],
      "metadata": {
        "colab": {
          "base_uri": "https://localhost:8080/"
        },
        "id": "Re6p2LshVZkT",
        "outputId": "b4a69ab8-f31a-4460-fefd-41a193e345a4"
      },
      "execution_count": null,
      "outputs": [
        {
          "output_type": "stream",
          "name": "stdout",
          "text": [
            "Looking in indexes: https://pypi.org/simple, https://us-python.pkg.dev/colab-wheels/public/simple/\n",
            "Requirement already satisfied: lxml in /usr/local/lib/python3.7/dist-packages (4.9.1)\n"
          ]
        }
      ]
    },
    {
      "cell_type": "code",
      "source": [
        "#pip install html5lib"
      ],
      "metadata": {
        "colab": {
          "base_uri": "https://localhost:8080/"
        },
        "id": "fAb-wT-5Vl6S",
        "outputId": "faaed072-72c2-4e5b-c355-bd9781c4da08"
      },
      "execution_count": null,
      "outputs": [
        {
          "output_type": "stream",
          "name": "stdout",
          "text": [
            "Looking in indexes: https://pypi.org/simple, https://us-python.pkg.dev/colab-wheels/public/simple/\n",
            "Requirement already satisfied: html5lib in /usr/local/lib/python3.7/dist-packages (1.0.1)\n",
            "Requirement already satisfied: webencodings in /usr/local/lib/python3.7/dist-packages (from html5lib) (0.5.1)\n",
            "Requirement already satisfied: six>=1.9 in /usr/local/lib/python3.7/dist-packages (from html5lib) (1.15.0)\n"
          ]
        }
      ]
    },
    {
      "cell_type": "code",
      "source": [
        "# extracting fifa 2022 group tables\n",
        "#all_tables = pd.read_html(\"https://en.wikipedia.org/wiki/2022_FIFA_World_Cup\")"
      ],
      "metadata": {
        "id": "agaPug9eVop4"
      },
      "execution_count": null,
      "outputs": []
    },
    {
      "cell_type": "code",
      "source": [
        "#all_tables[32]"
      ],
      "metadata": {
        "colab": {
          "base_uri": "https://localhost:8080/",
          "height": 81
        },
        "id": "fpL3xwzDWXt1",
        "outputId": "178dac6c-dd1d-4750-8a13-da74f5bc1d31"
      },
      "execution_count": null,
      "outputs": [
        {
          "output_type": "execute_result",
          "data": {
            "text/plain": [
              "   Poland Match 39  Argentina\n",
              "0     NaN   Report        NaN"
            ],
            "text/html": [
              "\n",
              "  <div id=\"df-dde7b540-b086-47bd-a5dc-4ce8f16075ee\">\n",
              "    <div class=\"colab-df-container\">\n",
              "      <div>\n",
              "<style scoped>\n",
              "    .dataframe tbody tr th:only-of-type {\n",
              "        vertical-align: middle;\n",
              "    }\n",
              "\n",
              "    .dataframe tbody tr th {\n",
              "        vertical-align: top;\n",
              "    }\n",
              "\n",
              "    .dataframe thead th {\n",
              "        text-align: right;\n",
              "    }\n",
              "</style>\n",
              "<table border=\"1\" class=\"dataframe\">\n",
              "  <thead>\n",
              "    <tr style=\"text-align: right;\">\n",
              "      <th></th>\n",
              "      <th>Poland</th>\n",
              "      <th>Match 39</th>\n",
              "      <th>Argentina</th>\n",
              "    </tr>\n",
              "  </thead>\n",
              "  <tbody>\n",
              "    <tr>\n",
              "      <th>0</th>\n",
              "      <td>NaN</td>\n",
              "      <td>Report</td>\n",
              "      <td>NaN</td>\n",
              "    </tr>\n",
              "  </tbody>\n",
              "</table>\n",
              "</div>\n",
              "      <button class=\"colab-df-convert\" onclick=\"convertToInteractive('df-dde7b540-b086-47bd-a5dc-4ce8f16075ee')\"\n",
              "              title=\"Convert this dataframe to an interactive table.\"\n",
              "              style=\"display:none;\">\n",
              "        \n",
              "  <svg xmlns=\"http://www.w3.org/2000/svg\" height=\"24px\"viewBox=\"0 0 24 24\"\n",
              "       width=\"24px\">\n",
              "    <path d=\"M0 0h24v24H0V0z\" fill=\"none\"/>\n",
              "    <path d=\"M18.56 5.44l.94 2.06.94-2.06 2.06-.94-2.06-.94-.94-2.06-.94 2.06-2.06.94zm-11 1L8.5 8.5l.94-2.06 2.06-.94-2.06-.94L8.5 2.5l-.94 2.06-2.06.94zm10 10l.94 2.06.94-2.06 2.06-.94-2.06-.94-.94-2.06-.94 2.06-2.06.94z\"/><path d=\"M17.41 7.96l-1.37-1.37c-.4-.4-.92-.59-1.43-.59-.52 0-1.04.2-1.43.59L10.3 9.45l-7.72 7.72c-.78.78-.78 2.05 0 2.83L4 21.41c.39.39.9.59 1.41.59.51 0 1.02-.2 1.41-.59l7.78-7.78 2.81-2.81c.8-.78.8-2.07 0-2.86zM5.41 20L4 18.59l7.72-7.72 1.47 1.35L5.41 20z\"/>\n",
              "  </svg>\n",
              "      </button>\n",
              "      \n",
              "  <style>\n",
              "    .colab-df-container {\n",
              "      display:flex;\n",
              "      flex-wrap:wrap;\n",
              "      gap: 12px;\n",
              "    }\n",
              "\n",
              "    .colab-df-convert {\n",
              "      background-color: #E8F0FE;\n",
              "      border: none;\n",
              "      border-radius: 50%;\n",
              "      cursor: pointer;\n",
              "      display: none;\n",
              "      fill: #1967D2;\n",
              "      height: 32px;\n",
              "      padding: 0 0 0 0;\n",
              "      width: 32px;\n",
              "    }\n",
              "\n",
              "    .colab-df-convert:hover {\n",
              "      background-color: #E2EBFA;\n",
              "      box-shadow: 0px 1px 2px rgba(60, 64, 67, 0.3), 0px 1px 3px 1px rgba(60, 64, 67, 0.15);\n",
              "      fill: #174EA6;\n",
              "    }\n",
              "\n",
              "    [theme=dark] .colab-df-convert {\n",
              "      background-color: #3B4455;\n",
              "      fill: #D2E3FC;\n",
              "    }\n",
              "\n",
              "    [theme=dark] .colab-df-convert:hover {\n",
              "      background-color: #434B5C;\n",
              "      box-shadow: 0px 1px 3px 1px rgba(0, 0, 0, 0.15);\n",
              "      filter: drop-shadow(0px 1px 2px rgba(0, 0, 0, 0.3));\n",
              "      fill: #FFFFFF;\n",
              "    }\n",
              "  </style>\n",
              "\n",
              "      <script>\n",
              "        const buttonEl =\n",
              "          document.querySelector('#df-dde7b540-b086-47bd-a5dc-4ce8f16075ee button.colab-df-convert');\n",
              "        buttonEl.style.display =\n",
              "          google.colab.kernel.accessAllowed ? 'block' : 'none';\n",
              "\n",
              "        async function convertToInteractive(key) {\n",
              "          const element = document.querySelector('#df-dde7b540-b086-47bd-a5dc-4ce8f16075ee');\n",
              "          const dataTable =\n",
              "            await google.colab.kernel.invokeFunction('convertToInteractive',\n",
              "                                                     [key], {});\n",
              "          if (!dataTable) return;\n",
              "\n",
              "          const docLinkHtml = 'Like what you see? Visit the ' +\n",
              "            '<a target=\"_blank\" href=https://colab.research.google.com/notebooks/data_table.ipynb>data table notebook</a>'\n",
              "            + ' to learn more about interactive tables.';\n",
              "          element.innerHTML = '';\n",
              "          dataTable['output_type'] = 'display_data';\n",
              "          await google.colab.output.renderOutput(dataTable, element);\n",
              "          const docLink = document.createElement('div');\n",
              "          docLink.innerHTML = docLinkHtml;\n",
              "          element.appendChild(docLink);\n",
              "        }\n",
              "      </script>\n",
              "    </div>\n",
              "  </div>\n",
              "  "
            ]
          },
          "metadata": {},
          "execution_count": 16
        }
      ]
    },
    {
      "cell_type": "code",
      "source": [
        "# the group tables begin at index 11 of all_tables, then all other groups are\n",
        "# 7 indices from one another after the previous one. The following code outputs\n",
        "# the index of every group\n",
        "#import string\n",
        "#alphabet = list(string.ascii_uppercase)\n",
        "\n",
        "#for letter, ind in zip(alphabet, range(11, 67, 7)):\n",
        "#  print(letter, ind)"
      ],
      "metadata": {
        "colab": {
          "base_uri": "https://localhost:8080/"
        },
        "id": "8wnaBEU2XEhz",
        "outputId": "a4ff0d7e-08d1-4acb-f0c6-afd65ba3d0a0"
      },
      "execution_count": null,
      "outputs": [
        {
          "output_type": "stream",
          "name": "stdout",
          "text": [
            "A 11\n",
            "B 18\n",
            "C 25\n",
            "D 32\n",
            "E 39\n",
            "F 46\n",
            "G 53\n",
            "H 60\n"
          ]
        }
      ]
    },
    {
      "cell_type": "code",
      "source": [
        "# organising the data\n",
        "#dict_tables = dict()\n",
        "#for letter, ind in zip(alphabet, range(11, 67, 7)):\n",
        "#  df = all_tables[ind]\n",
        "#  df.rename(columns={df.columns[1]: 'Team'}, inplace = True)\n",
        "  #df.pop('Qualification')\n",
        "#  dict_tables[f'Group {letter}'] = df\n",
        "\n",
        "#dict_tables.keys()"
      ],
      "metadata": {
        "colab": {
          "base_uri": "https://localhost:8080/"
        },
        "id": "ccAhpzloY5Ti",
        "outputId": "20f63305-145e-4141-a718-febad9f50b9e"
      },
      "execution_count": null,
      "outputs": [
        {
          "output_type": "execute_result",
          "data": {
            "text/plain": [
              "dict_keys(['Group A', 'Group B', 'Group C', 'Group D', 'Group E', 'Group F', 'Group G', 'Group H'])"
            ]
          },
          "metadata": {},
          "execution_count": 19
        }
      ]
    },
    {
      "cell_type": "code",
      "source": [
        "#dict_tables['Group A'].Team"
      ],
      "metadata": {
        "id": "GG6OrguDZMqX"
      },
      "execution_count": null,
      "outputs": []
    },
    {
      "cell_type": "code",
      "source": [
        " #for g_name, teams in dict_tables.items():\n",
        " #  print(g_name, dict_tables[g_name].Team)"
      ],
      "metadata": {
        "id": "4OP4Bsfc39IG"
      },
      "execution_count": null,
      "outputs": []
    },
    {
      "cell_type": "code",
      "source": [
        "#import csv\n",
        "#some_some = [((1,4),(2,4),(3,4),(4,4),(5,4),(6,4),(7,4),(8,4)),((1,4),(2,4),(3,4),(4,4),(5,4),(6,4),(7,4),(8,4))]\n",
        "#with open('demofile.csv', 'w', newline='', encoding='utf-8') as xxxx:\n",
        "  #for g_name, teams in dict_tables.items():\n",
        "#  writer = csv.writer(xxxx)\n",
        "#  writer.writerow(['Group A','Group B', 'Group C', 'Group D', 'Group E',\\\n",
        "#                     'Group F', 'Group G', 'Group H'])\n",
        "#  writer.writerows(some_some)\n",
        "    #xxxx.write(teams) #pops an error write() argument must be str, not DataFrame"
      ],
      "metadata": {
        "id": "CXpJsCubau_R"
      },
      "execution_count": null,
      "outputs": []
    },
    {
      "cell_type": "code",
      "source": [
        "#fifa22_df = pd.DataFrame(dict_tables.items())\n",
        "#fifa22_df"
      ],
      "metadata": {
        "id": "lLaSctmlcJRv"
      },
      "execution_count": null,
      "outputs": []
    },
    {
      "cell_type": "code",
      "source": [
        "#fifa22_df.to_csv('fifa2022.csv', index=False, encoding='utf-8')"
      ],
      "metadata": {
        "id": "-7OeSy1idczC"
      },
      "execution_count": null,
      "outputs": []
    },
    {
      "cell_type": "markdown",
      "source": [
        "### *Prac 2*"
      ],
      "metadata": {
        "id": "A0kbGObvHWHg"
      }
    },
    {
      "cell_type": "code",
      "source": [
        "# some more practice\n",
        "\n",
        "def get_url(post, location):\n",
        "  some_template = 'https://ie.indeed.com/jobs?q={}&l={}'\n",
        "  url = some_template.format(post, location)\n",
        "  return url"
      ],
      "metadata": {
        "id": "PklMhHEfBlPV"
      },
      "execution_count": null,
      "outputs": []
    },
    {
      "cell_type": "code",
      "source": [
        "some_url1 = get_url('Mechanic', 'Ireland')"
      ],
      "metadata": {
        "id": "0UKiKTLOGeF-"
      },
      "execution_count": null,
      "outputs": []
    },
    {
      "cell_type": "code",
      "source": [
        "#exctrating the raw html\n",
        "some_response1 = requests.get(some_url1)\n",
        "print(some_response1)\n",
        "print(some_response1.reason) #tells reason for request not being successful when applicable"
      ],
      "metadata": {
        "id": "LD0DXff5Guso"
      },
      "execution_count": null,
      "outputs": []
    },
    {
      "cell_type": "code",
      "source": [
        "soup = BeautifulSoup(some_response1.text, 'html.parser')\n",
        "some_cards = soup.find_all('div', 'job_seen_beacon')\n",
        "len(some_cards)\n",
        "#had to be the number of items displayed per page had response been 200 not 403\n",
        "#just continue for now"
      ],
      "metadata": {
        "id": "Y3cpZF2SJAT_"
      },
      "execution_count": null,
      "outputs": []
    },
    {
      "cell_type": "code",
      "source": [
        "# getting data for the records\n",
        "# card=some_cards[0], single record\n",
        "def get_record(card):\n",
        "  atag = some_cards.h2.a  #h2 heading, a-tag, use card to grab it\n",
        "  job_title = card.find('span', 'title').text.strip()\n",
        "  job_url = 'https://ie.indeed.com' + atag.get('href')\n",
        "  job_company = card.find('span', 'companyName').text.strip()\n",
        "  job_location = card.find('div', 'companyLocation').text.strip()\n",
        "  #use.find(some_key).get('some_data') when desired variable is somewhat \n",
        "  #'embedded', without striping and texting it\n",
        "  post_date = card.find('div', 'date').text\n",
        "  some_today = datetime.today().strftime('%Y-%m-%d')\n",
        "  try:\n",
        "    job_salary = card.find('div','attribute_snippet').get('aria-label') #cant find it on current website though\n",
        "  except AttributeError:\n",
        "    job_salary = ''\n",
        "  \n",
        "  record = (job_title, job_company, job_location, post_date, some_today, job_salary, job_url)\n",
        "\n",
        "  return record"
      ],
      "metadata": {
        "id": "Fznsv2CXUmpM"
      },
      "execution_count": null,
      "outputs": []
    },
    {
      "cell_type": "code",
      "source": [
        "records = []\n",
        "for card in some_cards:\n",
        "  record = get_record(card)\n",
        "  records.append(record)\n",
        "records"
      ],
      "metadata": {
        "id": "u5pLZ2VteCUu"
      },
      "execution_count": null,
      "outputs": []
    },
    {
      "cell_type": "code",
      "source": [
        "#next page\n",
        "while True:\n",
        "  try:\n",
        "    url = 'https://ie.indeed.com' + soup.find('a', {'aria-label':\"Next Page\"}).get('href')\n",
        "  except AttributeError:\n",
        "    break\n",
        "  \n",
        "  some_response = requests.get(url)\n",
        "  soup = BeautifulSoup(some_response1.text, 'html.parser')\n",
        "  some_cards = soup.find_all('div', 'job_seen_beacon')\n",
        "\n",
        "  for card in some_cards:\n",
        "    record = get_record(card)\n",
        "    records.append(record)\n",
        "\n",
        "len(records)"
      ],
      "metadata": {
        "id": "REqufjsmiULk"
      },
      "execution_count": null,
      "outputs": []
    },
    {
      "cell_type": "code",
      "source": [
        "#consolidating\n",
        "\n",
        "def some_main(some_job, some_location):\n",
        "  records = []\n",
        "  some_url = get_url(some_job, some_location)\n",
        "\n",
        "  while True:\n",
        "    some_response = requests.get(some_url)\n",
        "    soup = BeautifulSoup(some_response1.text, 'html.parser')\n",
        "    some_cards = soup.find_all('div', 'job_seen_beacon')\n",
        "\n",
        "    for card in some_cards:\n",
        "      record = get_record(card)\n",
        "      records.append(record)\n",
        "\n",
        "    try:\n",
        "      url = 'https://ie.indeed.com' + soup.find('a', {'aria-label':\"Next Page\"}).get('href')\n",
        "    except AttributeError:\n",
        "      break\n",
        "    #try-catch block at the end because we need to proceed to next page from the first\n",
        "\n",
        "    #saving to csv\n",
        "    with open('some_results.csv', 'x', newline='', encoding='utf-8') as some_f:\n",
        "      writer = csv.writer(some_f)\n",
        "      writer.writerow(['Job Title', 'Company', 'Location', \"Posted On\", 'Extracted On', \"Salary\", 'URL'])\n",
        "      writer.writerows(records)\n"
      ],
      "metadata": {
        "id": "FUAkPTwalHiS"
      },
      "execution_count": null,
      "outputs": []
    },
    {
      "cell_type": "code",
      "source": [
        "some_main('Driver', 'Ireland')"
      ],
      "metadata": {
        "id": "cQeAAoxCofyp"
      },
      "execution_count": null,
      "outputs": []
    },
    {
      "cell_type": "markdown",
      "source": [
        "### Prac 3"
      ],
      "metadata": {
        "id": "mjtTigJzutWe"
      }
    },
    {
      "cell_type": "code",
      "source": [
        "resp1 = requests.get('https://www.irishjobs.ie/ShowResults.aspx?Keywords=Data&SortBy=Relevance&Page=2')"
      ],
      "metadata": {
        "id": "paiUw5eIuMUu"
      },
      "execution_count": null,
      "outputs": []
    },
    {
      "cell_type": "code",
      "source": [
        "resp1"
      ],
      "metadata": {
        "id": "_uZao1ifxIME"
      },
      "execution_count": null,
      "outputs": []
    },
    {
      "cell_type": "markdown",
      "source": [
        "### Prac 4"
      ],
      "metadata": {
        "id": "I8YgytEKxJJJ"
      }
    },
    {
      "cell_type": "code",
      "source": [
        "def get_url(job):\n",
        "  gen_url = \"https://www.careerjunction.co.za/jobs/results?Keywords={}&lr=4&SortBy=Relevance\"\n",
        "  search_url = gen_url.format(job)\n",
        "  return search_url"
      ],
      "metadata": {
        "id": "wwzOD0kv6WX8"
      },
      "execution_count": null,
      "outputs": []
    },
    {
      "cell_type": "code",
      "source": [
        "resp3 = requests.get(get_url('data'))"
      ],
      "metadata": {
        "id": "z1swKZfkwyI2"
      },
      "execution_count": null,
      "outputs": []
    },
    {
      "cell_type": "code",
      "source": [
        "resp3"
      ],
      "metadata": {
        "colab": {
          "base_uri": "https://localhost:8080/"
        },
        "id": "tPOYmgoew5aZ",
        "outputId": "398d23e4-5f7a-47c4-b51c-38757e0a1402"
      },
      "execution_count": null,
      "outputs": [
        {
          "output_type": "execute_result",
          "data": {
            "text/plain": [
              "<Response [200]>"
            ]
          },
          "metadata": {},
          "execution_count": 43
        }
      ]
    },
    {
      "cell_type": "code",
      "source": [
        "soup = BeautifulSoup(resp3.text, 'lxml') #resp3.content to be tested\n",
        "the_card = soup.find('div', \"two-thirds\")\n",
        "print(len(the_card))\n",
        "#the_card"
      ],
      "metadata": {
        "colab": {
          "base_uri": "https://localhost:8080/"
        },
        "id": "ssBkTDeTnji0",
        "outputId": "af153ff8-3eb2-4e6b-ac08-176ae52ce973"
      },
      "execution_count": null,
      "outputs": [
        {
          "output_type": "stream",
          "name": "stdout",
          "text": [
            "61\n"
          ]
        }
      ]
    },
    {
      "cell_type": "code",
      "source": [
        "soup2 = BeautifulSoup(resp3.content, 'html.parser') #resp3.content to be tested\n",
        "the_card2 = soup2.find('div', \"two-thirds\")\n",
        "\n",
        "b_card = soup2.find_all('div', class_=\"module-content\")\n",
        "print(len(a_card))\n",
        "#print(a_card)\n",
        "l2 = []\n",
        "for i in b_card:\n",
        "  #MAMBOJUMBE = i.find('li', {'class':\"salary\"}).text\n",
        "  #l2.append(MAMBOJUMBE)\n",
        "  print(i)\n",
        "\n",
        "len(l2)"
      ],
      "metadata": {
        "id": "OCbmpoQR3sV_"
      },
      "execution_count": null,
      "outputs": []
    },
    {
      "cell_type": "code",
      "source": [
        "a_card = the_card.find_all('div', class_=\"module-content\")\n",
        "print(len(a_card))\n",
        "print(a_card)\n",
        "l1 = []\n",
        "for i in a_card:\n",
        "  l1.append(the_card.find('li', class_=\"position\").text)\n",
        "\n",
        "len(l1)"
      ],
      "metadata": {
        "id": "JfVRUfh7i0BS"
      },
      "execution_count": null,
      "outputs": []
    },
    {
      "cell_type": "code",
      "source": [
        "records = dict()\n",
        "j_location, j_type, j_salary, j_something =[],[],[],[]\n",
        "#for card in j_card:\n",
        "  \n",
        "j_location = the_card.find_all('li', {'class':\"location\"})#.test.strip()\n",
        "j_type = the_card.find_all('li', class_=\"position\")#.text\n",
        "j_salary = the_card.find_all('li', {'class':\"salary\"})#.text\n",
        "j_something = the_card.find_all('h3')#.text.strip()\n",
        "  #record = (j_location, j_type, j_salary, j_something)\n",
        "\n",
        "for s_index, s_item in enumerate(j_salary):\n",
        "  j_salary[s_index] = s_item.text.strip('R').strip()\n",
        "\n",
        "for s_index, s_item in enumerate(j_type):\n",
        "  j_type[s_index] = s_item.text.strip()\n",
        "\n",
        "records['Location'] = j_location\n",
        "records['Type'] = j_type\n",
        "records['Salary'] = j_salary\n",
        "records['Company'] = j_something\n",
        "\n",
        "#print(len(records['Salary']), '\\n', records['Salary'])\n",
        "#print(len(records['Type']), '\\n', records['Type'])\n",
        "print(len(records['Company']))"
      ],
      "metadata": {
        "colab": {
          "base_uri": "https://localhost:8080/"
        },
        "id": "8829o_BZxxRR",
        "outputId": "38026e2f-0d45-43f4-8fbe-95e5e806a0cf"
      },
      "execution_count": null,
      "outputs": [
        {
          "output_type": "stream",
          "name": "stdout",
          "text": [
            "25\n"
          ]
        }
      ]
    },
    {
      "cell_type": "code",
      "source": [
        "records = []\n",
        "resp4 = requests.get('https://www.careerjunction.co.za/jobs/results?keywords=data')\n",
        "soup = BeautifulSoup(resp4.text, 'html.parser')\n",
        "the_card = soup.find_all('div', \"two-thirds\")\n",
        "\n",
        "for i in j_card:   \n",
        "  j_title = j_card.find('h2').text.strip()  #use i.find in normal circumstances\n",
        "  j_location = j_card.find('li', \"location\").text.strip()\n",
        "  j_type = j_card.find('li', \"position\").text\n",
        "  j_salary = j_card.find('li', \"salary\").text\n",
        "  j_company = j_card.find('h3').text.strip()\n",
        "    \n",
        "  record = (j_location, j_type, j_salary, j_something, j_title)\n",
        "  records.append(record)\n",
        "\n",
        "len(records)"
      ],
      "metadata": {
        "id": "-FcsS_LT-B8C"
      },
      "execution_count": null,
      "outputs": []
    },
    {
      "cell_type": "code",
      "source": [
        "l1 = [1,2,3]\n",
        "l2 = [76,73]\n",
        "l1 += l2\n",
        "l1"
      ],
      "metadata": {
        "id": "wiD01GSWbsgC"
      },
      "execution_count": null,
      "outputs": []
    }
  ]
}